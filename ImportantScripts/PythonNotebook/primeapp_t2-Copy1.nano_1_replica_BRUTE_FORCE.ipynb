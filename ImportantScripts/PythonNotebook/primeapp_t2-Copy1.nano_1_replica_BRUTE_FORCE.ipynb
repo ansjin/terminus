{
 "cells": [
  {
   "cell_type": "code",
   "execution_count": 77,
   "metadata": {},
   "outputs": [],
   "source": [
    "from influxdb import InfluxDBClient\n",
    "import pandas as pd\n",
    "import matplotlib.pylab as plt\n",
    "%matplotlib inline\n",
    "from matplotlib.pylab import rcParams\n",
    "rcParams['figure.figsize'] = 15, 6\n",
    "plt.style.use('ggplot')\n",
    "from pandas import read_csv"
   ]
  },
  {
   "cell_type": "code",
   "execution_count": 2,
   "metadata": {},
   "outputs": [],
   "source": [
    "folderNames = ['s1t1rc1nc1t2xlargecomputeprimeappt2mediumpdi',\n",
    "               's1t1rc1nc1t2xlargecomputeprimeappt2largescn', \n",
    "              ]\n",
    "\n",
    "host = '10.155.208.224'\n",
    "port = 8086\n",
    "username= 'root'\n",
    "password = 'root'\n",
    "appnames  = [\"primeapp\"]\n"
   ]
  },
  {
   "cell_type": "code",
   "execution_count": 3,
   "metadata": {},
   "outputs": [],
   "source": [
    "def getAllNodeNames(client):\n",
    "    queryResult = client.query(\"SHOW TAG VALUES FROM uptime WITH KEY=nodename;\")\n",
    "    nodeNames_temp = list(queryResult.get_points())\n",
    "    dfnodeNames = pd.DataFrame(nodeNames_temp)\n",
    "    allNodeNames = dfnodeNames[:][\"value\"]\n",
    "    return allNodeNames\n",
    "def getNamespaceNames(client,node):\n",
    "    nsQuery = client.query(\"SHOW TAG VALUES FROM uptime WITH KEY=namespace_name WHERE nodename = '\"+node+\"';\")\n",
    "    nsQuery_temp = list(nsQuery.get_points())\n",
    "    dfnsNames = pd.DataFrame(nsQuery_temp)\n",
    "    allnsNames = dfnsNames[:][\"value\"]\n",
    "    return allnsNames\n",
    "def getAllPodNames(client,node,ns_name):\n",
    "    queryResult = client.query(\"SHOW TAG VALUES FROM uptime WITH KEY = pod_name WHERE namespace_name = '\"+ns_name+\"' AND nodename = '\"+node+\"';\")\n",
    "    podNames_temp = list(queryResult.get_points())\n",
    "    dfpodNames = pd.DataFrame(podNames_temp)\n",
    "    if dfpodNames.empty: \n",
    "        return dfpodNames\n",
    "    else:\n",
    "        allpodNames = dfpodNames[:][\"value\"]\n",
    "        return allpodNames\n",
    "def getCPUUtilizationNode(client, node):\n",
    "    queryResult = client.query('SELECT * FROM \"cpu/node_utilization\" where nodename = \\''+node+'\\' AND type=\\'node\\';')\n",
    "    dfcpuUtilization = pd.DataFrame(queryResult['cpu/node_utilization'])\n",
    "    return dfcpuUtilization\n",
    "def getCPUUtilizationPod(client, node,ns_name, pod_name):\n",
    "    queryResult = client.query('SELECT * FROM \"cpu/usage_rate\" where nodename = \\''+node+'\\' AND pod_name = \\''+pod_name+'\\' AND namespace_name = \\''+ns_name+'\\'  AND type=\\'pod\\';')\n",
    "    dfcpuUtilization = pd.DataFrame(queryResult['cpu/usage_rate'])\n",
    "    return dfcpuUtilization\n",
    "def getCPUUtilizationPodContainer(client,node,ns_name, pod_name):\n",
    "    queryResult = client.query('SELECT * FROM \"cpu/usage_rate\" where nodename = \\''+node+'\\' AND pod_name = \\''+pod_name+'\\' AND namespace_name = \\''+ns_name+'\\' AND type=\\'pod_container\\';')\n",
    "    dfcpuUtilization = pd.DataFrame(queryResult['cpu/usage_rate'])\n",
    "    return dfcpuUtilization\n",
    "def prepareCpuUtilization(client,node,ns_name, pod_name):\n",
    "    cpuUtilization = getCPUUtilizationNode(client,node)\n",
    "    podCpuUtilization = getCPUUtilizationPod(client,node,ns_name, pod_name)\n",
    "    containercpuUtilization = getCPUUtilizationPodContainer(client,node,ns_name, pod_name)\n",
    "    plt.plot(cpuUtilization.index, cpuUtilization['value'] *1000, 'r', label=\"node\") # plotting t, a separately \n",
    "    plt.plot(podCpuUtilization.index, podCpuUtilization['value'], 'b', label=\"pod\") # plotting t, b separately \n",
    "    plt.plot(containercpuUtilization.index, containercpuUtilization['value'], 'g', label=\"container\") # plotting t, c separately\n",
    "    plt.legend(loc='upper left')\n",
    "    plt.show()\n",
    "def getMemoryUtilizationNode(client,node):\n",
    "    queryResult = client.query('SELECT * FROM \"memory/node_utilization\" where nodename = \\''+node+'\\' AND type=\\'node\\';')\n",
    "    dfmemUtilization = pd.DataFrame(queryResult['memory/node_utilization'])\n",
    "    return dfmemUtilization\n",
    "def getMemoryUtilizationPod(client,node,ns_name, pod_name):\n",
    "    queryResult = client.query('SELECT * FROM \"memory/usage\" where nodename = \\''+node+'\\' AND pod_name = \\''+pod_name+'\\' AND namespace_name = \\''+ns_name+'\\'  AND type=\\'pod\\';')\n",
    "    dfmemUtilization = pd.DataFrame(queryResult['memory/usage'])\n",
    "    return dfmemUtilization\n",
    "def getMemoryUtilizationPodContainer(client,node,ns_name, pod_name):\n",
    "    queryResult = client.query('SELECT * FROM \"memory/usage\" where nodename = \\''+node+'\\' AND pod_name = \\''+pod_name+'\\' AND namespace_name = \\''+ns_name+'\\' AND type=\\'pod_container\\';')\n",
    "    dfmemUtilization = pd.DataFrame(queryResult['memory/usage'])\n",
    "    return dfmemUtilization\n",
    "def prepareMemoryUtilization(client,node,ns_name, pod_name):\n",
    "    memoryUtilization = getMemoryUtilizationNode(client,node)\n",
    "    podMemoryUtilization = getMemoryUtilizationPod(client,node,ns_name, pod_name)\n",
    "    containerMemoryUtilization = getMemoryUtilizationPodContainer(client,node,ns_name, pod_name)\n",
    "    plt.plot(memoryUtilization.index, memoryUtilization['value'], 'r', label=\"node\") # plotting t, a separately \n",
    "    plt.plot(podMemoryUtilization.index, podMemoryUtilization['value'], 'b', label=\"pod\") # plotting t, b separately \n",
    "    plt.plot(containerMemoryUtilization.index, containerMemoryUtilization['value'], 'g', label=\"container\") # plotting t, c separately \n",
    "    plt.legend(loc='upper left')\n",
    "    plt.show()\n",
    "def getNetworkTxRatePod(client,node,ns_name, pod_name):\n",
    "    queryResult = client.query('SELECT * FROM \"network/tx_rate\" where nodename = \\''+node+'\\' AND pod_name = \\''+pod_name+'\\' AND namespace_name = \\''+ns_name+'\\'  AND type=\\'pod\\';')\n",
    "    dfmemUtilization = pd.DataFrame(queryResult['network/tx_rate'])\n",
    "    return dfmemUtilization\n",
    "def getNetworkTxPod(client,node,ns_name, pod_name):\n",
    "    queryResult = client.query('SELECT * FROM \"network/tx\" where nodename = \\''+node+'\\' AND pod_name = \\''+pod_name+'\\' AND namespace_name = \\''+ns_name+'\\'  AND type=\\'pod\\';')\n",
    "    dfmemUtilization = pd.DataFrame(queryResult['network/tx'])\n",
    "    return dfmemUtilization\n",
    "def getNetworkTxErrorsPod(client,node,ns_name, pod_name):\n",
    "    queryResult = client.query('SELECT * FROM \"network/tx_errors\" where nodename = \\''+node+'\\' AND pod_name = \\''+pod_name+'\\' AND namespace_name = \\''+ns_name+'\\'  AND type=\\'pod\\';')\n",
    "    dfmemUtilization = pd.DataFrame(queryResult['network/tx_errors'])\n",
    "    return dfmemUtilization\n",
    "def getNetworkTxErrorsRatePod(client,node,ns_name, pod_name):\n",
    "    queryResult = client.query('SELECT * FROM \"network/tx_errors_rate\" where nodename = \\''+node+'\\' AND pod_name = \\''+pod_name+'\\' AND namespace_name = \\''+ns_name+'\\'  AND type=\\'pod\\';')\n",
    "    dfmemUtilization = pd.DataFrame(queryResult['network/tx_errors_rate'])\n",
    "    return dfmemUtilization\n",
    "def prepareNetworkTxRateUtilization(client,node,ns_name, pod_name):\n",
    "    podNetworTxRate = getNetworkTxRatePod(client,node,ns_name, pod_name)\n",
    "    podNetworTx = getNetworkTxPod(client,node,ns_name, pod_name)\n",
    "    podNetworkError = getNetworkTxErrorsPod(client,node,ns_name, pod_name)\n",
    "    podNetworkErrorRate = getNetworkTxErrorsRatePod(client,node,ns_name, pod_name)\n",
    "    plt.plot(podNetworTxRate.index, podNetworTxRate['value'], 'b') # plotting t, b separately \n",
    "    #plt.plot(podNetworTx.index, podNetworTx['value'], 'g') # plotting t, b separately \n",
    "    #plt.plot(podNetworkError.index, podNetworkError['value'], 'y') # plotting t, b separately \n",
    "    plt.plot(podNetworkErrorRate.index, podNetworkErrorRate['value'], 'r') # plotting t, b separately \n",
    "    plt.show()\n",
    "def getNetworkRxRatePod(client,node,ns_name, pod_name):\n",
    "    queryResult = client.query('SELECT * FROM \"network/rx_rate\" where nodename = \\''+node+'\\' AND pod_name = \\''+pod_name+'\\' AND namespace_name = \\''+ns_name+'\\'  AND type=\\'pod\\';')\n",
    "    dfmemUtilization = pd.DataFrame(queryResult['network/rx_rate'])\n",
    "    return dfmemUtilization\n",
    "def getNetworkRxPod(client,node,ns_name, pod_name):\n",
    "    queryResult = client.query('SELECT * FROM \"network/rx\" where nodename = \\''+node+'\\' AND pod_name = \\''+pod_name+'\\' AND namespace_name = \\''+ns_name+'\\'  AND type=\\'pod\\';')\n",
    "    dfmemUtilization = pd.DataFrame(queryResult['network/rx'])\n",
    "    return dfmemUtilization\n",
    "\n",
    "def getNetworkRxErrorsPod(client,node,ns_name, pod_name):\n",
    "    queryResult = client.query('SELECT * FROM \"network/rx_errors\" where nodename = \\''+node+'\\' AND pod_name = \\''+pod_name+'\\' AND namespace_name = \\''+ns_name+'\\'  AND type=\\'pod\\';')\n",
    "    dfmemUtilization = pd.DataFrame(queryResult['network/rx_errors'])\n",
    "    return dfmemUtilization\n",
    "def getNetworkRxErrorsRatePod(client,node,ns_name, pod_name):\n",
    "    queryResult = client.query('SELECT * FROM \"network/rx_errors_rate\" where nodename = \\''+node+'\\' AND pod_name = \\''+pod_name+'\\' AND namespace_name = \\''+ns_name+'\\'  AND type=\\'pod\\';')\n",
    "    dfmemUtilization = pd.DataFrame(queryResult['network/rx_errors_rate'])\n",
    "    return dfmemUtilization\n",
    "def prepareNetworkRxRateUtilization(client,node,ns_name, pod_name):\n",
    "    podNetworRxRate = getNetworkRxRatePod(client,node,ns_name, pod_name)\n",
    "    podNetworRx = getNetworkRxPod(client,node,ns_name, pod_name)\n",
    "    podNetworkError = getNetworkRxErrorsPod(client,node,ns_name, pod_name)\n",
    "    podNetworkErrorRate = getNetworkRxErrorsRatePod(client,node,ns_name, pod_name)\n",
    "    plt.plot(podNetworRxRate.index, podNetworRxRate['value'], 'b') # plotting t, b separately \n",
    "    #plt.plot(podNetworRx.index, podNetworRx['value'], 'g') # plotting t, b separately \n",
    "    #plt.plot(podNetworkError.index, podNetworkError['value'], 'y') # plotting t, b separately \n",
    "    plt.plot(podNetworkErrorRate.index, podNetworkErrorRate['value'], 'r') # plotting t, b separately \n",
    "    plt.show()\n",
    "def getRelevantNodeName(client,ns_name):\n",
    "    allNodeNames  = getAllNodeNames(client)\n",
    "    #nsNames = getNamespaceNames(allNodeNames[0])\n",
    "    for node in allNodeNames:\n",
    "        allPodNamesNode = getAllPodNames(client,node,ns_name)\n",
    "        if(not allPodNamesNode.empty):\n",
    "            return node\n",
    "\n",
    "def getNodeResourceUtilizationDf(client, nodeName):\n",
    "    Result_node_CPU = client.query(\"SELECT value from \\\"cpu/node_utilization\\\" where nodename = '\"+nodeName+\"' AND type = 'node' \")\n",
    "    Result_node_MEM = client.query(\"SELECT value from \\\"memory/node_utilization\\\" where nodename = '\"+nodeName+\"' AND type = 'node' \")\n",
    "\n",
    "    Result_node_CPU_Cores = client.query(\"SELECT mean(\\\"value\\\") FROM \\\"cpu/node_capacity\\\" where nodename = '\"+nodeName+\n",
    "                                         \"' AND type = 'node' GROUP BY time(1m)\")\n",
    "    Result_node_mem_node = client.query(\"SELECT mean(\\\"value\\\")FROM \\\"memory/node_capacity\\\" where nodename = '\"+\n",
    "                                        nodeName+\"' AND type = 'node' GROUP BY time(1m)\")\n",
    "    \n",
    "    cpu_points = pd.DataFrame(Result_node_CPU.get_points())\n",
    "    cpu_points['time'] = pd.to_datetime(cpu_points['time'])\n",
    "    cpu_points = cpu_points.set_index('time')\n",
    "    cpu_points.columns = ['node_cpu_util']\n",
    "    mem_points = pd.DataFrame(Result_node_MEM.get_points())\n",
    "    mem_points['time'] = pd.to_datetime(mem_points['time'])\n",
    "    mem_points = mem_points.set_index('time')\n",
    "    mem_points.columns = ['node_mem_util']\n",
    "    \n",
    "    cores_points = pd.DataFrame(Result_node_CPU_Cores.get_points())\n",
    "    cores_points['time'] = pd.to_datetime(cores_points['time'])\n",
    "    cores_points = cores_points.set_index('time')\n",
    "    cores_points.columns = ['node_cores']\n",
    "    \n",
    "    mem_node_points = pd.DataFrame(Result_node_mem_node.get_points())\n",
    "    mem_node_points['time'] = pd.to_datetime(mem_node_points['time'])\n",
    "    mem_node_points = mem_node_points.set_index('time')\n",
    "    mem_node_points.columns = ['node_mem']\n",
    "    \n",
    "    df_node =pd.concat([cpu_points, mem_points,cores_points,mem_node_points], axis=1)\n",
    "    return df_node\n",
    "def getPodResourceUtilizationDf(client, node, ns_name, pod_name):\n",
    "    Result_Pod_CPU_usage = client.query('SELECT value FROM \"cpu/usage_rate\" where nodename = \\''+node+\n",
    "                                        '\\' AND pod_name = \\''+pod_name+'\\' AND namespace_name = \\''+ns_name+\n",
    "                                        '\\'  AND type=\\'pod\\';')\n",
    "    Result_Pod_MEM_usage = client.query('SELECT value from \\\"memory/usage\\\" where nodename = \\''+node+\n",
    "                                        '\\' AND pod_name = \\''+pod_name+'\\' AND namespace_name = \\''+ns_name+\n",
    "                                        '\\'  AND type=\\'pod\\';')\n",
    "    \n",
    "    Result_Pod_CPU_limit = client.query('SELECT mean(\\\"value\\\") FROM \"cpu/limit\" where nodename = \\''+node+'\\' AND pod_name = \\''+pod_name+'\\' AND namespace_name = \\''+ns_name+'\\'  AND type=\\'pod\\' group by time(1m);')\n",
    "    Result_Pod_MEM_limit = client.query('SELECT mean(\\\"value\\\") from \\\"memory/limit\\\" where nodename = \\''+node+\n",
    "                                        '\\' AND pod_name = \\''+pod_name+'\\' AND namespace_name = \\''+ns_name+\n",
    "                                        '\\'  AND type=\\'pod\\' group by time(1m);')\n",
    "    \n",
    "    Result_Pod_CPU_requests = client.query('SELECT mean(\\\"value\\\") FROM \"cpu/request\" where nodename = \\''+node+'\\' AND pod_name = \\''+pod_name+'\\' AND namespace_name = \\''+ns_name+'\\'  AND type=\\'pod\\' group by time(1m);')\n",
    "    Result_Pod_MEM_requests = client.query('SELECT mean(\\\"value\\\") from \\\"memory/request\\\" where nodename = \\''+node+\n",
    "                                           '\\' AND pod_name = \\''+pod_name+'\\' AND namespace_name = \\''+ns_name+\n",
    "                                           '\\'  AND type=\\'pod\\' group by time(1m);')\n",
    "    \n",
    "    \n",
    "    cpu_points_usage = pd.DataFrame(Result_Pod_CPU_usage.get_points())\n",
    "    cpu_points_usage['time'] = pd.to_datetime(cpu_points_usage['time'])\n",
    "    cpu_points_usage = cpu_points_usage.set_index('time')\n",
    "    cpu_points_usage.columns = ['pod_cpu_usage']\n",
    "    \n",
    "    \n",
    "    mem_points_usage = pd.DataFrame(Result_Pod_MEM_usage.get_points())\n",
    "    mem_points_usage['time'] = pd.to_datetime(mem_points_usage['time'])\n",
    "    mem_points_usage = mem_points_usage.set_index('time')\n",
    "    mem_points_usage.columns = ['pod_mem_usage']\n",
    "    \n",
    "     \n",
    "    cpu_points_limits = pd.DataFrame(Result_Pod_CPU_limit.get_points())\n",
    "    cpu_points_limits['time'] = pd.to_datetime(cpu_points_limits['time'])\n",
    "    cpu_points_limits = cpu_points_limits.set_index('time')\n",
    "    cpu_points_limits.columns = ['pod_cpu_limit']\n",
    "    \n",
    "    \n",
    "    mem_points_limits = pd.DataFrame(Result_Pod_MEM_limit.get_points())\n",
    "    mem_points_limits['time'] = pd.to_datetime(mem_points_limits['time'])\n",
    "    mem_points_limits = mem_points_limits.set_index('time')\n",
    "    mem_points_limits.columns = ['pod_mem_limit']\n",
    "    \n",
    "     \n",
    "    cpu_points_request = pd.DataFrame(Result_Pod_CPU_requests.get_points())\n",
    "    cpu_points_request['time'] = pd.to_datetime(cpu_points_request['time'])\n",
    "    cpu_points_request = cpu_points_request.set_index('time')\n",
    "    cpu_points_request.columns = ['pod_cpu_request']\n",
    "    \n",
    "    \n",
    "    mem_points_request = pd.DataFrame(Result_Pod_MEM_requests.get_points())\n",
    "    mem_points_request['time'] = pd.to_datetime(mem_points_request['time'])\n",
    "    mem_points_request = mem_points_request.set_index('time')\n",
    "    mem_points_request.columns = ['pod_mem_request']\n",
    "       \n",
    "    df_pod =pd.concat([cpu_points_usage, mem_points_usage,cpu_points_limits,mem_points_limits,cpu_points_request,mem_points_request ], axis=1)\n",
    "    \n",
    "    return df_pod\n",
    "def getRequestsDf(clientK6):\n",
    "    queryResult = clientK6.query('SELECT sum(\"value\") FROM \"vus\" group by time(1m);')\n",
    "    vus = pd.DataFrame(queryResult['vus'])\n",
    "    vus.columns = ['vus','time']\n",
    "    vus = vus.set_index('time')\n",
    "\n",
    "\n",
    "    queryResultReqs = clientK6.query('SELECT sum(\"value\") FROM \"http_reqs\" group by time(1m);')\n",
    "    reqs = pd.DataFrame(queryResultReqs['http_reqs'])\n",
    "    reqs.columns = ['requests','time']\n",
    "    reqs = reqs.set_index('time')\n",
    "    queryResultReqsDuration95 = clientK6.query('SELECT percentile(\"value\", 95) FROM \"http_req_duration\" group by time(1m) ;')\n",
    "    reqs_duration95 = pd.DataFrame(queryResultReqsDuration95['http_req_duration'])\n",
    "    reqs_duration95.columns = [ 'requests_duration_percentile_95','time']\n",
    "    reqs_duration95 = reqs_duration95.set_index('time')\n",
    "    queryResultReqsDuration90 = clientK6.query('SELECT percentile(\"value\", 90) FROM \"http_req_duration\" group by time(1m) ;')\n",
    "    reqs_duration90 = pd.DataFrame(queryResultReqsDuration90['http_req_duration'])\n",
    "    reqs_duration90.columns = ['requests_duration_percentile_90','time']\n",
    "    reqs_duration90 = reqs_duration90.set_index('time')\n",
    "\n",
    "    queryResultMaxDuration = clientK6.query('SELECT max(\"value\") FROM \"http_req_duration\" group by time(1m);')\n",
    "    reqs_duration_max = pd.DataFrame(queryResultMaxDuration['http_req_duration'])\n",
    "    reqs_duration_max.columns = ['requests_duration_max','time']\n",
    "    reqs_duration_max = reqs_duration_max.set_index('time')\n",
    "\n",
    "    queryResultMinDuration = clientK6.query('SELECT min(\"value\") FROM \"http_req_duration\" group by time(1m);')\n",
    "    reqs_duration_min = pd.DataFrame(queryResultMinDuration['http_req_duration'])\n",
    "    reqs_duration_min.columns = ['requests_duration_min','time']\n",
    "    reqs_duration_min = reqs_duration_min.set_index('time')\n",
    "\n",
    "    queryResultMeanDuration = clientK6.query('SELECT mean(\"value\") FROM \"http_req_duration\" group by time(1m);')\n",
    "    reqs_duration_mean = pd.DataFrame(queryResultMeanDuration['http_req_duration'])\n",
    "    reqs_duration_mean.columns = ['requests_duration_mean','time']\n",
    "    reqs_duration_mean = reqs_duration_mean.set_index('time')\n",
    "\n",
    "    queryResultMedianDuration = clientK6.query('SELECT median(\"value\") FROM \"http_req_duration\" group by time(1m);')\n",
    "    reqs_duration_median = pd.DataFrame(queryResultMedianDuration['http_req_duration'])\n",
    "    reqs_duration_median.columns = ['requests_duration_median','time']\n",
    "    reqs_duration_median = reqs_duration_median.set_index('time')\n",
    "\n",
    "    finalDF = pd.merge(vus, reqs, left_index=True, right_index=True)\n",
    "    finalDF = pd.merge(finalDF, reqs_duration95, left_index=True, right_index=True)\n",
    "    finalDF = pd.merge(finalDF, reqs_duration90, left_index=True, right_index=True)\n",
    "    finalDF = pd.merge(finalDF,reqs_duration_max, left_index=True, right_index=True)\n",
    "    finalDF = pd.merge(finalDF,reqs_duration_min, left_index=True, right_index=True)\n",
    "    finalDF = pd.merge(finalDF,reqs_duration_mean, left_index=True, right_index=True)\n",
    "    finalDF = pd.merge(finalDF,reqs_duration_median, left_index=True, right_index=True)\n",
    "    finalDF.index = pd.to_datetime(finalDF.index)\n",
    "\n",
    "    return finalDF\n",
    "\n",
    "def getPodsNodesRequestsDf(client, clientK6):\n",
    "    default_ns_name =  \"default\"\n",
    "    relevantNodeName = getRelevantNodeName(client,default_ns_name)\n",
    "    podNames = getAllPodNames(client,relevantNodeName, default_ns_name)\n",
    "    df_node = getNodeResourceUtilizationDf(client,relevantNodeName)\n",
    "    df_pods_node = []\n",
    "    for podName in podNames: \n",
    "        if appnames[0] in podName: \n",
    "            df_pod = getPodResourceUtilizationDf(client,relevantNodeName, default_ns_name, podName)\n",
    "            finalDF = pd.merge(df_node,df_pod, left_index=True, right_index=True)\n",
    "            requestsDF = getRequestsDf(clientK6)\n",
    "            finalDF = pd.merge(finalDF,requestsDF, left_index=True, right_index=True)\n",
    "            finalDF['pod_cpu_usage'] = finalDF['pod_cpu_usage']/(finalDF['pod_cpu_limit'])\n",
    "            finalDF['pod_cpu_limit'] = finalDF['pod_cpu_limit']/1000\n",
    "            finalDF['pod_cpu_request'] = finalDF['pod_cpu_request']/1000\n",
    "\n",
    "            finalDF['pod_mem_usage'] = finalDF['pod_mem_usage']/(finalDF['pod_mem_limit'])\n",
    "            finalDF['pod_mem_limit'] = finalDF['pod_mem_limit']/(1073741824)\n",
    "            finalDF['pod_mem_request'] = finalDF['pod_mem_request']/(1073741824)\n",
    "\n",
    "            finalDF['node_cores'] = finalDF['node_cores']/1000\n",
    "            finalDF['node_mem'] = finalDF['node_mem']/(1073741824)\n",
    "\n",
    "            finalDF = finalDF.fillna(0)\n",
    "            finalDF = finalDF[(finalDF.T != 0).any()]\n",
    "            df_pods_node.append(finalDF)\n",
    "    return df_pods_node\n",
    "import numpy as np\n",
    "def reject_outliers(data, m = 2):\n",
    "    d = np.abs(data - np.median(data))\n",
    "    mdev = np.median(d)\n",
    "    s = d/mdev if mdev else 0.\n",
    "    return data[s<m]"
   ]
  },
  {
   "cell_type": "code",
   "execution_count": 4,
   "metadata": {},
   "outputs": [
    {
     "name": "stdout",
     "output_type": "stream",
     "text": [
      "s1t1rc1nc1t2xlargecomputeprimeappt2mediumpdi\n",
      "s1t1rc1nc1t2xlargecomputeprimeappt2largescn\n"
     ]
    }
   ],
   "source": [
    "allFinalDFs = []\n",
    "for folderName in folderNames:\n",
    "    client = InfluxDBClient(host, port,username , password, folderName+'_k8s')\n",
    "    clientK6 = InfluxDBClient(host, port, username, password, folderName+'_TestK6')\n",
    "    df_pods_node = getPodsNodesRequestsDf(client, clientK6)\n",
    "    print(folderName)\n",
    "    finalDF = pd.DataFrame()\n",
    "    for i in range(len(df_pods_node)):\n",
    "        df_pods_node[i] = df_pods_node[i].reset_index(drop=True)\n",
    "        finalDF['pod'+str(i+1)+'_cpu_usage'] = df_pods_node[i]['pod_cpu_usage']\n",
    "        finalDF['pod'+str(i+1)+'_mem_usage'] = df_pods_node[i]['pod_mem_usage']\n",
    "    finalDF['num_pods'] = int(len(df_pods_node))\n",
    "    finalDF = pd.concat([finalDF, df_pods_node[0][['node_cores', 'node_mem','node_cpu_util','node_mem_util', 'pod_cpu_limit', 'pod_cpu_request','pod_mem_limit',\n",
    "                                                   'pod_mem_request','vus','requests','requests_duration_percentile_95',\n",
    "                                                  'requests_duration_percentile_90','requests_duration_max', 'requests_duration_min',\n",
    "                                                   'requests_duration_mean', 'requests_duration_median'\n",
    "                                                  ]]], axis=1)\n",
    "    \n",
    "    allFinalDFs.append(finalDF)"
   ]
  },
  {
   "cell_type": "code",
   "execution_count": 5,
   "metadata": {},
   "outputs": [],
   "source": [
    "df = pd.DataFrame()\n",
    "for idx in range(len(folderNames)):\n",
    "    df = df.append(allFinalDFs[idx])\n",
    "\n"
   ]
  },
  {
   "cell_type": "code",
   "execution_count": 6,
   "metadata": {},
   "outputs": [
    {
     "data": {
      "text/html": [
       "<div>\n",
       "<style scoped>\n",
       "    .dataframe tbody tr th:only-of-type {\n",
       "        vertical-align: middle;\n",
       "    }\n",
       "\n",
       "    .dataframe tbody tr th {\n",
       "        vertical-align: top;\n",
       "    }\n",
       "\n",
       "    .dataframe thead th {\n",
       "        text-align: right;\n",
       "    }\n",
       "</style>\n",
       "<table border=\"1\" class=\"dataframe\">\n",
       "  <thead>\n",
       "    <tr style=\"text-align: right;\">\n",
       "      <th></th>\n",
       "      <th>pod1_cpu_usage</th>\n",
       "      <th>pod1_mem_usage</th>\n",
       "      <th>num_pods</th>\n",
       "      <th>node_cores</th>\n",
       "      <th>node_mem</th>\n",
       "      <th>node_cpu_util</th>\n",
       "      <th>node_mem_util</th>\n",
       "      <th>pod_cpu_limit</th>\n",
       "      <th>pod_cpu_request</th>\n",
       "      <th>pod_mem_limit</th>\n",
       "      <th>pod_mem_request</th>\n",
       "      <th>vus</th>\n",
       "      <th>requests</th>\n",
       "      <th>requests_duration_percentile_95</th>\n",
       "      <th>requests_duration_percentile_90</th>\n",
       "      <th>requests_duration_max</th>\n",
       "      <th>requests_duration_min</th>\n",
       "      <th>requests_duration_mean</th>\n",
       "      <th>requests_duration_median</th>\n",
       "    </tr>\n",
       "  </thead>\n",
       "  <tbody>\n",
       "    <tr>\n",
       "      <th>0</th>\n",
       "      <td>0.0000</td>\n",
       "      <td>0.003751</td>\n",
       "      <td>1</td>\n",
       "      <td>4.0</td>\n",
       "      <td>15.674213</td>\n",
       "      <td>0.00975</td>\n",
       "      <td>0.167898</td>\n",
       "      <td>2.0</td>\n",
       "      <td>2.0</td>\n",
       "      <td>3.90625</td>\n",
       "      <td>3.90625</td>\n",
       "      <td>8.0</td>\n",
       "      <td>9.0</td>\n",
       "      <td>27.680330</td>\n",
       "      <td>27.253428</td>\n",
       "      <td>27.680330</td>\n",
       "      <td>13.577353</td>\n",
       "      <td>17.968871</td>\n",
       "      <td>14.385384</td>\n",
       "    </tr>\n",
       "    <tr>\n",
       "      <th>1</th>\n",
       "      <td>0.0000</td>\n",
       "      <td>0.003774</td>\n",
       "      <td>1</td>\n",
       "      <td>4.0</td>\n",
       "      <td>15.674213</td>\n",
       "      <td>0.01025</td>\n",
       "      <td>0.168071</td>\n",
       "      <td>2.0</td>\n",
       "      <td>2.0</td>\n",
       "      <td>3.90625</td>\n",
       "      <td>3.90625</td>\n",
       "      <td>53.0</td>\n",
       "      <td>51.0</td>\n",
       "      <td>21.601111</td>\n",
       "      <td>18.643291</td>\n",
       "      <td>22.588567</td>\n",
       "      <td>12.687695</td>\n",
       "      <td>14.856631</td>\n",
       "      <td>13.862593</td>\n",
       "    </tr>\n",
       "    <tr>\n",
       "      <th>2</th>\n",
       "      <td>0.0070</td>\n",
       "      <td>0.007515</td>\n",
       "      <td>1</td>\n",
       "      <td>4.0</td>\n",
       "      <td>15.674213</td>\n",
       "      <td>0.01375</td>\n",
       "      <td>0.169207</td>\n",
       "      <td>2.0</td>\n",
       "      <td>2.0</td>\n",
       "      <td>3.90625</td>\n",
       "      <td>3.90625</td>\n",
       "      <td>265.0</td>\n",
       "      <td>268.0</td>\n",
       "      <td>21.732819</td>\n",
       "      <td>21.044662</td>\n",
       "      <td>24.085672</td>\n",
       "      <td>12.306026</td>\n",
       "      <td>15.097047</td>\n",
       "      <td>13.478307</td>\n",
       "    </tr>\n",
       "    <tr>\n",
       "      <th>3</th>\n",
       "      <td>0.0235</td>\n",
       "      <td>0.010575</td>\n",
       "      <td>1</td>\n",
       "      <td>4.0</td>\n",
       "      <td>15.674213</td>\n",
       "      <td>0.02500</td>\n",
       "      <td>0.169677</td>\n",
       "      <td>2.0</td>\n",
       "      <td>2.0</td>\n",
       "      <td>3.90625</td>\n",
       "      <td>3.90625</td>\n",
       "      <td>382.0</td>\n",
       "      <td>378.0</td>\n",
       "      <td>21.439515</td>\n",
       "      <td>20.919577</td>\n",
       "      <td>41.666549</td>\n",
       "      <td>11.854600</td>\n",
       "      <td>15.025702</td>\n",
       "      <td>13.063574</td>\n",
       "    </tr>\n",
       "    <tr>\n",
       "      <th>4</th>\n",
       "      <td>0.0365</td>\n",
       "      <td>0.011487</td>\n",
       "      <td>1</td>\n",
       "      <td>4.0</td>\n",
       "      <td>15.674213</td>\n",
       "      <td>0.03275</td>\n",
       "      <td>0.169162</td>\n",
       "      <td>2.0</td>\n",
       "      <td>2.0</td>\n",
       "      <td>3.90625</td>\n",
       "      <td>3.90625</td>\n",
       "      <td>506.0</td>\n",
       "      <td>495.0</td>\n",
       "      <td>21.150088</td>\n",
       "      <td>20.581392</td>\n",
       "      <td>22.407364</td>\n",
       "      <td>11.782292</td>\n",
       "      <td>14.463437</td>\n",
       "      <td>12.878387</td>\n",
       "    </tr>\n",
       "  </tbody>\n",
       "</table>\n",
       "</div>"
      ],
      "text/plain": [
       "   pod1_cpu_usage  pod1_mem_usage  num_pods  node_cores   node_mem  \\\n",
       "0          0.0000        0.003751         1         4.0  15.674213   \n",
       "1          0.0000        0.003774         1         4.0  15.674213   \n",
       "2          0.0070        0.007515         1         4.0  15.674213   \n",
       "3          0.0235        0.010575         1         4.0  15.674213   \n",
       "4          0.0365        0.011487         1         4.0  15.674213   \n",
       "\n",
       "   node_cpu_util  node_mem_util  pod_cpu_limit  pod_cpu_request  \\\n",
       "0        0.00975       0.167898            2.0              2.0   \n",
       "1        0.01025       0.168071            2.0              2.0   \n",
       "2        0.01375       0.169207            2.0              2.0   \n",
       "3        0.02500       0.169677            2.0              2.0   \n",
       "4        0.03275       0.169162            2.0              2.0   \n",
       "\n",
       "   pod_mem_limit  pod_mem_request    vus  requests  \\\n",
       "0        3.90625          3.90625    8.0       9.0   \n",
       "1        3.90625          3.90625   53.0      51.0   \n",
       "2        3.90625          3.90625  265.0     268.0   \n",
       "3        3.90625          3.90625  382.0     378.0   \n",
       "4        3.90625          3.90625  506.0     495.0   \n",
       "\n",
       "   requests_duration_percentile_95  requests_duration_percentile_90  \\\n",
       "0                        27.680330                        27.253428   \n",
       "1                        21.601111                        18.643291   \n",
       "2                        21.732819                        21.044662   \n",
       "3                        21.439515                        20.919577   \n",
       "4                        21.150088                        20.581392   \n",
       "\n",
       "   requests_duration_max  requests_duration_min  requests_duration_mean  \\\n",
       "0              27.680330              13.577353               17.968871   \n",
       "1              22.588567              12.687695               14.856631   \n",
       "2              24.085672              12.306026               15.097047   \n",
       "3              41.666549              11.854600               15.025702   \n",
       "4              22.407364              11.782292               14.463437   \n",
       "\n",
       "   requests_duration_median  \n",
       "0                 14.385384  \n",
       "1                 13.862593  \n",
       "2                 13.478307  \n",
       "3                 13.063574  \n",
       "4                 12.878387  "
      ]
     },
     "execution_count": 6,
     "metadata": {},
     "output_type": "execute_result"
    }
   ],
   "source": [
    "df.head()"
   ]
  },
  {
   "cell_type": "code",
   "execution_count": 7,
   "metadata": {},
   "outputs": [
    {
     "data": {
      "image/png": "[encoded data removed]",
      "text/plain": [
       "<matplotlib.figure.Figure at 0x2a7e1f190f0>"
      ]
     },
     "metadata": {},
     "output_type": "display_data"
    }
   ],
   "source": [
    "plt.plot(df['node_cpu_util'])\n",
    "plt.ylabel(\"Node CPU Usage\")\n",
    "plt.grid(True)\n",
    "plt.show()"
   ]
  },
  {
   "cell_type": "code",
   "execution_count": 8,
   "metadata": {},
   "outputs": [],
   "source": [
    "df = df.fillna(0)\n"
   ]
  },
  {
   "cell_type": "code",
   "execution_count": 9,
   "metadata": {},
   "outputs": [
    {
     "name": "stderr",
     "output_type": "stream",
     "text": [
      "C:\\Users\\ansjin\\Anaconda\\lib\\site-packages\\ipykernel_launcher.py:2: SettingWithCopyWarning: \n",
      "A value is trying to be set on a copy of a slice from a DataFrame.\n",
      "Try using .loc[row_indexer,col_indexer] = value instead\n",
      "\n",
      "See the caveats in the documentation: http://pandas.pydata.org/pandas-docs/stable/indexing.html#indexing-view-versus-copy\n",
      "  \n",
      "C:\\Users\\ansjin\\Anaconda\\lib\\site-packages\\ipykernel_launcher.py:3: SettingWithCopyWarning: \n",
      "A value is trying to be set on a copy of a slice from a DataFrame.\n",
      "Try using .loc[row_indexer,col_indexer] = value instead\n",
      "\n",
      "See the caveats in the documentation: http://pandas.pydata.org/pandas-docs/stable/indexing.html#indexing-view-versus-copy\n",
      "  This is separate from the ipykernel package so we can avoid doing imports until\n",
      "C:\\Users\\ansjin\\Anaconda\\lib\\site-packages\\ipykernel_launcher.py:4: SettingWithCopyWarning: \n",
      "A value is trying to be set on a copy of a slice from a DataFrame.\n",
      "Try using .loc[row_indexer,col_indexer] = value instead\n",
      "\n",
      "See the caveats in the documentation: http://pandas.pydata.org/pandas-docs/stable/indexing.html#indexing-view-versus-copy\n",
      "  after removing the cwd from sys.path.\n",
      "C:\\Users\\ansjin\\Anaconda\\lib\\site-packages\\ipykernel_launcher.py:5: SettingWithCopyWarning: \n",
      "A value is trying to be set on a copy of a slice from a DataFrame.\n",
      "Try using .loc[row_indexer,col_indexer] = value instead\n",
      "\n",
      "See the caveats in the documentation: http://pandas.pydata.org/pandas-docs/stable/indexing.html#indexing-view-versus-copy\n",
      "  \"\"\"\n"
     ]
    }
   ],
   "source": [
    "dftemp_cpu = df[['requests','num_pods','node_cores', 'node_cpu_util','pod_cpu_limit','pod_mem_limit','node_mem_util','requests_duration_mean']]\n",
    "dftemp_cpu['pod_util_cpu_avg'] = df['pod1_cpu_usage']#+df['pod2_cpu_usage']+df['pod3_cpu_usage']\n",
    "dftemp_cpu['pod_util_cpu_avg'] = dftemp_cpu['pod_util_cpu_avg']/dftemp_cpu['num_pods']\n",
    "dftemp_cpu['pod_util_mem_avg'] = df['pod1_mem_usage']#+df['pod2_mem_usage']+df['pod3_mem_usage']\n",
    "dftemp_cpu['pod_util_mem_avg'] = dftemp_cpu['pod_util_mem_avg']/dftemp_cpu['num_pods']\n",
    "#dftemp_mem = df[['requests', 'node_cores','node_mem', 'node_mem_util','pod_cpu_limit','pod_cpu_request','pod_mem_usage','pod_mem_limit','pod_mem_request', 'requests_duration_mean', 'requests_duration_percentile_95']]\n"
   ]
  },
  {
   "cell_type": "code",
   "execution_count": 10,
   "metadata": {},
   "outputs": [
    {
     "data": {
      "text/html": [
       "<div>\n",
       "<style scoped>\n",
       "    .dataframe tbody tr th:only-of-type {\n",
       "        vertical-align: middle;\n",
       "    }\n",
       "\n",
       "    .dataframe tbody tr th {\n",
       "        vertical-align: top;\n",
       "    }\n",
       "\n",
       "    .dataframe thead th {\n",
       "        text-align: right;\n",
       "    }\n",
       "</style>\n",
       "<table border=\"1\" class=\"dataframe\">\n",
       "  <thead>\n",
       "    <tr style=\"text-align: right;\">\n",
       "      <th></th>\n",
       "      <th>requests</th>\n",
       "      <th>num_pods</th>\n",
       "      <th>node_cores</th>\n",
       "      <th>node_cpu_util</th>\n",
       "      <th>pod_cpu_limit</th>\n",
       "      <th>pod_mem_limit</th>\n",
       "      <th>node_mem_util</th>\n",
       "      <th>requests_duration_mean</th>\n",
       "      <th>pod_util_cpu_avg</th>\n",
       "      <th>pod_util_mem_avg</th>\n",
       "    </tr>\n",
       "  </thead>\n",
       "  <tbody>\n",
       "    <tr>\n",
       "      <th>0</th>\n",
       "      <td>9.0</td>\n",
       "      <td>1</td>\n",
       "      <td>4.0</td>\n",
       "      <td>0.00975</td>\n",
       "      <td>2.0</td>\n",
       "      <td>3.90625</td>\n",
       "      <td>0.167898</td>\n",
       "      <td>17.968871</td>\n",
       "      <td>0.0000</td>\n",
       "      <td>0.003751</td>\n",
       "    </tr>\n",
       "    <tr>\n",
       "      <th>1</th>\n",
       "      <td>51.0</td>\n",
       "      <td>1</td>\n",
       "      <td>4.0</td>\n",
       "      <td>0.01025</td>\n",
       "      <td>2.0</td>\n",
       "      <td>3.90625</td>\n",
       "      <td>0.168071</td>\n",
       "      <td>14.856631</td>\n",
       "      <td>0.0000</td>\n",
       "      <td>0.003774</td>\n",
       "    </tr>\n",
       "    <tr>\n",
       "      <th>2</th>\n",
       "      <td>268.0</td>\n",
       "      <td>1</td>\n",
       "      <td>4.0</td>\n",
       "      <td>0.01375</td>\n",
       "      <td>2.0</td>\n",
       "      <td>3.90625</td>\n",
       "      <td>0.169207</td>\n",
       "      <td>15.097047</td>\n",
       "      <td>0.0070</td>\n",
       "      <td>0.007515</td>\n",
       "    </tr>\n",
       "    <tr>\n",
       "      <th>3</th>\n",
       "      <td>378.0</td>\n",
       "      <td>1</td>\n",
       "      <td>4.0</td>\n",
       "      <td>0.02500</td>\n",
       "      <td>2.0</td>\n",
       "      <td>3.90625</td>\n",
       "      <td>0.169677</td>\n",
       "      <td>15.025702</td>\n",
       "      <td>0.0235</td>\n",
       "      <td>0.010575</td>\n",
       "    </tr>\n",
       "    <tr>\n",
       "      <th>4</th>\n",
       "      <td>495.0</td>\n",
       "      <td>1</td>\n",
       "      <td>4.0</td>\n",
       "      <td>0.03275</td>\n",
       "      <td>2.0</td>\n",
       "      <td>3.90625</td>\n",
       "      <td>0.169162</td>\n",
       "      <td>14.463437</td>\n",
       "      <td>0.0365</td>\n",
       "      <td>0.011487</td>\n",
       "    </tr>\n",
       "  </tbody>\n",
       "</table>\n",
       "</div>"
      ],
      "text/plain": [
       "   requests  num_pods  node_cores  node_cpu_util  pod_cpu_limit  \\\n",
       "0       9.0         1         4.0        0.00975            2.0   \n",
       "1      51.0         1         4.0        0.01025            2.0   \n",
       "2     268.0         1         4.0        0.01375            2.0   \n",
       "3     378.0         1         4.0        0.02500            2.0   \n",
       "4     495.0         1         4.0        0.03275            2.0   \n",
       "\n",
       "   pod_mem_limit  node_mem_util  requests_duration_mean  pod_util_cpu_avg  \\\n",
       "0        3.90625       0.167898               17.968871            0.0000   \n",
       "1        3.90625       0.168071               14.856631            0.0000   \n",
       "2        3.90625       0.169207               15.097047            0.0070   \n",
       "3        3.90625       0.169677               15.025702            0.0235   \n",
       "4        3.90625       0.169162               14.463437            0.0365   \n",
       "\n",
       "   pod_util_mem_avg  \n",
       "0          0.003751  \n",
       "1          0.003774  \n",
       "2          0.007515  \n",
       "3          0.010575  \n",
       "4          0.011487  "
      ]
     },
     "execution_count": 10,
     "metadata": {},
     "output_type": "execute_result"
    }
   ],
   "source": [
    "dftemp_cpu.head()"
   ]
  },
  {
   "cell_type": "code",
   "execution_count": 11,
   "metadata": {},
   "outputs": [
    {
     "name": "stderr",
     "output_type": "stream",
     "text": [
      "C:\\Users\\ansjin\\Anaconda\\lib\\site-packages\\ipykernel_launcher.py:2: SettingWithCopyWarning: \n",
      "A value is trying to be set on a copy of a slice from a DataFrame.\n",
      "Try using .loc[row_indexer,col_indexer] = value instead\n",
      "\n",
      "See the caveats in the documentation: http://pandas.pydata.org/pandas-docs/stable/indexing.html#indexing-view-versus-copy\n",
      "  \n",
      "C:\\Users\\ansjin\\Anaconda\\lib\\site-packages\\ipykernel_launcher.py:3: SettingWithCopyWarning: \n",
      "A value is trying to be set on a copy of a slice from a DataFrame.\n",
      "Try using .loc[row_indexer,col_indexer] = value instead\n",
      "\n",
      "See the caveats in the documentation: http://pandas.pydata.org/pandas-docs/stable/indexing.html#indexing-view-versus-copy\n",
      "  This is separate from the ipykernel package so we can avoid doing imports until\n"
     ]
    }
   ],
   "source": [
    "final_df  = dftemp_cpu[['requests','requests_duration_mean','num_pods','pod_cpu_limit','pod_mem_limit','pod_util_cpu_avg','pod_util_mem_avg',]]\n",
    "final_df['pod_util_cpu_avg'] = final_df['pod_util_cpu_avg']*final_df['pod_cpu_limit']\n",
    "final_df['pod_util_mem_avg'] = final_df['pod_util_mem_avg']*final_df['pod_mem_limit']\n",
    "final_df = final_df.sort_values(['requests'])\n"
   ]
  },
  {
   "cell_type": "code",
   "execution_count": 12,
   "metadata": {},
   "outputs": [],
   "source": [
    "final_df = final_df[(final_df[['pod_util_cpu_avg','pod_util_mem_avg','requests_duration_mean']] != 0).all(axis=1)]\n",
    "final_df = final_df[np.isfinite(final_df['requests'])]\n",
    "final_df = final_df[np.isfinite(final_df['requests_duration_mean'])]\n",
    "final_df = final_df[np.isfinite(final_df['pod_util_cpu_avg'])]\n",
    "final_df = final_df[np.isfinite(final_df['pod_util_mem_avg'])]\n",
    "final_df = final_df[final_df.requests_duration_mean < 2500]\n",
    "final_df = final_df.reset_index(drop=True)"
   ]
  },
  {
   "cell_type": "code",
   "execution_count": 13,
   "metadata": {},
   "outputs": [],
   "source": [
    "final_df.to_csv('primeapp_test1.csv')\n",
    "#dataset = read_csv('instanatest.csv', header=0, index_col=0)"
   ]
  },
  {
   "cell_type": "code",
   "execution_count": 14,
   "metadata": {},
   "outputs": [
    {
     "data": {
      "text/html": [
       "<div>\n",
       "<style scoped>\n",
       "    .dataframe tbody tr th:only-of-type {\n",
       "        vertical-align: middle;\n",
       "    }\n",
       "\n",
       "    .dataframe tbody tr th {\n",
       "        vertical-align: top;\n",
       "    }\n",
       "\n",
       "    .dataframe thead th {\n",
       "        text-align: right;\n",
       "    }\n",
       "</style>\n",
       "<table border=\"1\" class=\"dataframe\">\n",
       "  <thead>\n",
       "    <tr style=\"text-align: right;\">\n",
       "      <th></th>\n",
       "      <th>requests</th>\n",
       "      <th>requests_duration_mean</th>\n",
       "      <th>num_pods</th>\n",
       "      <th>pod_cpu_limit</th>\n",
       "      <th>pod_mem_limit</th>\n",
       "      <th>pod_util_cpu_avg</th>\n",
       "      <th>pod_util_mem_avg</th>\n",
       "    </tr>\n",
       "  </thead>\n",
       "  <tbody>\n",
       "    <tr>\n",
       "      <th>0</th>\n",
       "      <td>92.0</td>\n",
       "      <td>16.554491</td>\n",
       "      <td>1</td>\n",
       "      <td>2.0</td>\n",
       "      <td>7.81250</td>\n",
       "      <td>0.003</td>\n",
       "      <td>0.022514</td>\n",
       "    </tr>\n",
       "    <tr>\n",
       "      <th>1</th>\n",
       "      <td>241.0</td>\n",
       "      <td>16.120478</td>\n",
       "      <td>1</td>\n",
       "      <td>2.0</td>\n",
       "      <td>7.81250</td>\n",
       "      <td>0.012</td>\n",
       "      <td>0.013981</td>\n",
       "    </tr>\n",
       "    <tr>\n",
       "      <th>2</th>\n",
       "      <td>268.0</td>\n",
       "      <td>15.097047</td>\n",
       "      <td>1</td>\n",
       "      <td>2.0</td>\n",
       "      <td>3.90625</td>\n",
       "      <td>0.014</td>\n",
       "      <td>0.029354</td>\n",
       "    </tr>\n",
       "    <tr>\n",
       "      <th>3</th>\n",
       "      <td>378.0</td>\n",
       "      <td>15.025702</td>\n",
       "      <td>1</td>\n",
       "      <td>2.0</td>\n",
       "      <td>3.90625</td>\n",
       "      <td>0.047</td>\n",
       "      <td>0.041309</td>\n",
       "    </tr>\n",
       "    <tr>\n",
       "      <th>4</th>\n",
       "      <td>495.0</td>\n",
       "      <td>14.463437</td>\n",
       "      <td>1</td>\n",
       "      <td>2.0</td>\n",
       "      <td>3.90625</td>\n",
       "      <td>0.073</td>\n",
       "      <td>0.044872</td>\n",
       "    </tr>\n",
       "  </tbody>\n",
       "</table>\n",
       "</div>"
      ],
      "text/plain": [
       "   requests  requests_duration_mean  num_pods  pod_cpu_limit  pod_mem_limit  \\\n",
       "0      92.0               16.554491         1            2.0        7.81250   \n",
       "1     241.0               16.120478         1            2.0        7.81250   \n",
       "2     268.0               15.097047         1            2.0        3.90625   \n",
       "3     378.0               15.025702         1            2.0        3.90625   \n",
       "4     495.0               14.463437         1            2.0        3.90625   \n",
       "\n",
       "   pod_util_cpu_avg  pod_util_mem_avg  \n",
       "0             0.003          0.022514  \n",
       "1             0.012          0.013981  \n",
       "2             0.014          0.029354  \n",
       "3             0.047          0.041309  \n",
       "4             0.073          0.044872  "
      ]
     },
     "execution_count": 14,
     "metadata": {},
     "output_type": "execute_result"
    }
   ],
   "source": [
    "final_df.head()"
   ]
  },
  {
   "cell_type": "code",
   "execution_count": 15,
   "metadata": {},
   "outputs": [
    {
     "data": {
      "image/png": "[encoded data removed]",
      "text/plain": [
       "<matplotlib.figure.Figure at 0x2a7e22dfc88>"
      ]
     },
     "metadata": {},
     "output_type": "display_data"
    }
   ],
   "source": [
    "plt.plot( final_df['requests'], final_df['pod_util_cpu_avg'])\n",
    "plt.ylabel(\"Node CPU Usage\")\n",
    "plt.grid(True)\n",
    "plt.show()"
   ]
  },
  {
   "cell_type": "code",
   "execution_count": 16,
   "metadata": {},
   "outputs": [],
   "source": [
    "import seaborn as sb"
   ]
  },
  {
   "cell_type": "markdown",
   "metadata": {},
   "source": [
    "# Linear Regression"
   ]
  },
  {
   "cell_type": "code",
   "execution_count": 17,
   "metadata": {},
   "outputs": [],
   "source": [
    "from sklearn import datasets, linear_model\n",
    "from sklearn.metrics import mean_squared_error, r2_score\n",
    "from sklearn.model_selection import train_test_split\n",
    "from sklearn.preprocessing import scale"
   ]
  },
  {
   "cell_type": "code",
   "execution_count": 18,
   "metadata": {},
   "outputs": [],
   "source": [
    "# Use only one feature\n",
    "final_df = final_df.sort_values(['pod_util_cpu_avg'])\n",
    "df_X = final_df[['requests', 'requests_duration_mean', 'num_pods' ]].values\n",
    "df_Y = final_df[['pod_util_cpu_avg']].values"
   ]
  },
  {
   "cell_type": "code",
   "execution_count": 19,
   "metadata": {},
   "outputs": [],
   "source": [
    "X_train, X_test, y_train, y_test = train_test_split(df_X, df_Y, test_size=0.33, random_state=42)"
   ]
  },
  {
   "cell_type": "code",
   "execution_count": 20,
   "metadata": {},
   "outputs": [
    {
     "name": "stdout",
     "output_type": "stream",
     "text": [
      "Mean squared error: 0.00\n",
      "Variance score: 0.94\n",
      "Model score 0.94\n",
      "Train Mean squared error: 0.00\n"
     ]
    },
    {
     "name": "stderr",
     "output_type": "stream",
     "text": [
      "C:\\Users\\ansjin\\Anaconda\\lib\\site-packages\\scipy\\linalg\\basic.py:223: RuntimeWarning: scipy.linalg.solve\n",
      "Ill-conditioned matrix detected. Result is not guaranteed to be accurate.\n",
      "Reciprocal condition number: 1.5464268841246313e-17\n",
      "  ' condition number: {}'.format(rcond), RuntimeWarning)\n"
     ]
    }
   ],
   "source": [
    "from sklearn.linear_model import Ridge\n",
    "from sklearn.preprocessing import PolynomialFeatures\n",
    "from sklearn.pipeline import make_pipeline\n",
    "from sklearn.pipeline import Pipeline\n",
    "# Create linear regression object\n",
    "#regr = linear_model.LinearRegression()\n",
    "#regr = Pipeline([\n",
    "#                  ('linear', linear_model.LinearRegression(fit_intercept=False))])\n",
    "#regr = linear_model.Ridge (alpha = .01)\n",
    "#regr = linear_model.Lasso(alpha = 0.1)\n",
    "#regr = linear_model.LassoLars(alpha=.1)\n",
    "regr2 = make_pipeline(PolynomialFeatures(3), Ridge())\n",
    "\n",
    "# Train the model using the training sets\n",
    "regr2.fit(X_train, y_train)\n",
    "\n",
    "# Make predictions using the testing set\n",
    "y_pred = regr2.predict(X_test)\n",
    "\n",
    "# The coefficients\n",
    "\n",
    "# The mean squared error\n",
    "print(\"Mean squared error: %.2f\"\n",
    "      % mean_squared_error(y_test, y_pred))\n",
    "# Explained variance score: 1 is perfect prediction\n",
    "print('Variance score: %.2f' % r2_score(y_test, y_pred))\n",
    "\n",
    "print ('Model score %.2f' %  regr2.score(X_test, y_test) )\n",
    "#print ('Test score %.2f', regr.score(X_test, y_test) )\n",
    "print(\"Train Mean squared error: %.2f\"\n",
    "      % mean_squared_error(y_train, regr2.predict(X_train)))\n"
   ]
  },
  {
   "cell_type": "code",
   "execution_count": 21,
   "metadata": {},
   "outputs": [
    {
     "ename": "TypeError",
     "evalue": "ufunc 'sqrt' not supported for the input types, and the inputs could not be safely coerced to any supported types according to the casting rule ''safe''",
     "output_type": "error",
     "traceback": [
      "\u001b[1;31m---------------------------------------------------------------------------\u001b[0m",
      "\u001b[1;31mTypeError\u001b[0m                                 Traceback (most recent call last)",
      "\u001b[1;32m<ipython-input-21-06f2568a86af>\u001b[0m in \u001b[0;36m<module>\u001b[1;34m()\u001b[0m\n\u001b[0;32m      1\u001b[0m \u001b[1;31m# Plot outputs\u001b[0m\u001b[1;33m\u001b[0m\u001b[1;33m\u001b[0m\u001b[0m\n\u001b[1;32m----> 2\u001b[1;33m \u001b[0mplt\u001b[0m\u001b[1;33m.\u001b[0m\u001b[0mscatter\u001b[0m\u001b[1;33m(\u001b[0m\u001b[0mX_train\u001b[0m\u001b[1;33m[\u001b[0m\u001b[1;33m:\u001b[0m\u001b[1;33m,\u001b[0m\u001b[1;36m0\u001b[0m\u001b[1;33m]\u001b[0m\u001b[1;33m,\u001b[0m \u001b[0my_train\u001b[0m\u001b[1;33m,\u001b[0m  \u001b[1;34m'-b'\u001b[0m\u001b[1;33m,\u001b[0m\u001b[0mlabel\u001b[0m\u001b[1;33m=\u001b[0m\u001b[1;34m\"actual_CPU_utilization\"\u001b[0m\u001b[1;33m)\u001b[0m\u001b[1;33m\u001b[0m\u001b[0m\n\u001b[0m\u001b[0;32m      3\u001b[0m \u001b[0mplt\u001b[0m\u001b[1;33m.\u001b[0m\u001b[0mplot\u001b[0m\u001b[1;33m(\u001b[0m\u001b[0my_pred\u001b[0m\u001b[1;33m,\u001b[0m\u001b[1;34m'r'\u001b[0m\u001b[1;33m,\u001b[0m \u001b[0mlabel\u001b[0m\u001b[1;33m=\u001b[0m\u001b[1;34m\"predicted_CPU_utilization\"\u001b[0m\u001b[1;33m)\u001b[0m\u001b[1;33m\u001b[0m\u001b[0m\n\u001b[0;32m      4\u001b[0m \u001b[1;31m#plt.plot(X_test[:,0], y_pred, color='blue')\u001b[0m\u001b[1;33m\u001b[0m\u001b[1;33m\u001b[0m\u001b[0m\n\u001b[0;32m      5\u001b[0m \u001b[1;33m\u001b[0m\u001b[0m\n",
      "\u001b[1;32m~\\Anaconda\\lib\\site-packages\\matplotlib\\pyplot.py\u001b[0m in \u001b[0;36mscatter\u001b[1;34m(x, y, s, c, marker, cmap, norm, vmin, vmax, alpha, linewidths, verts, edgecolors, hold, data, **kwargs)\u001b[0m\n\u001b[0;32m   3355\u001b[0m                          \u001b[0mvmin\u001b[0m\u001b[1;33m=\u001b[0m\u001b[0mvmin\u001b[0m\u001b[1;33m,\u001b[0m \u001b[0mvmax\u001b[0m\u001b[1;33m=\u001b[0m\u001b[0mvmax\u001b[0m\u001b[1;33m,\u001b[0m \u001b[0malpha\u001b[0m\u001b[1;33m=\u001b[0m\u001b[0malpha\u001b[0m\u001b[1;33m,\u001b[0m\u001b[1;33m\u001b[0m\u001b[0m\n\u001b[0;32m   3356\u001b[0m                          \u001b[0mlinewidths\u001b[0m\u001b[1;33m=\u001b[0m\u001b[0mlinewidths\u001b[0m\u001b[1;33m,\u001b[0m \u001b[0mverts\u001b[0m\u001b[1;33m=\u001b[0m\u001b[0mverts\u001b[0m\u001b[1;33m,\u001b[0m\u001b[1;33m\u001b[0m\u001b[0m\n\u001b[1;32m-> 3357\u001b[1;33m                          edgecolors=edgecolors, data=data, **kwargs)\n\u001b[0m\u001b[0;32m   3358\u001b[0m     \u001b[1;32mfinally\u001b[0m\u001b[1;33m:\u001b[0m\u001b[1;33m\u001b[0m\u001b[0m\n\u001b[0;32m   3359\u001b[0m         \u001b[0max\u001b[0m\u001b[1;33m.\u001b[0m\u001b[0m_hold\u001b[0m \u001b[1;33m=\u001b[0m \u001b[0mwashold\u001b[0m\u001b[1;33m\u001b[0m\u001b[0m\n",
      "\u001b[1;32m~\\Anaconda\\lib\\site-packages\\matplotlib\\__init__.py\u001b[0m in \u001b[0;36minner\u001b[1;34m(ax, *args, **kwargs)\u001b[0m\n\u001b[0;32m   1708\u001b[0m                     warnings.warn(msg % (label_namer, func.__name__),\n\u001b[0;32m   1709\u001b[0m                                   RuntimeWarning, stacklevel=2)\n\u001b[1;32m-> 1710\u001b[1;33m             \u001b[1;32mreturn\u001b[0m \u001b[0mfunc\u001b[0m\u001b[1;33m(\u001b[0m\u001b[0max\u001b[0m\u001b[1;33m,\u001b[0m \u001b[1;33m*\u001b[0m\u001b[0margs\u001b[0m\u001b[1;33m,\u001b[0m \u001b[1;33m**\u001b[0m\u001b[0mkwargs\u001b[0m\u001b[1;33m)\u001b[0m\u001b[1;33m\u001b[0m\u001b[0m\n\u001b[0m\u001b[0;32m   1711\u001b[0m         \u001b[0mpre_doc\u001b[0m \u001b[1;33m=\u001b[0m \u001b[0minner\u001b[0m\u001b[1;33m.\u001b[0m\u001b[0m__doc__\u001b[0m\u001b[1;33m\u001b[0m\u001b[0m\n\u001b[0;32m   1712\u001b[0m         \u001b[1;32mif\u001b[0m \u001b[0mpre_doc\u001b[0m \u001b[1;32mis\u001b[0m \u001b[1;32mNone\u001b[0m\u001b[1;33m:\u001b[0m\u001b[1;33m\u001b[0m\u001b[0m\n",
      "\u001b[1;32m~\\Anaconda\\lib\\site-packages\\matplotlib\\axes\\_axes.py\u001b[0m in \u001b[0;36mscatter\u001b[1;34m(self, x, y, s, c, marker, cmap, norm, vmin, vmax, alpha, linewidths, verts, edgecolors, **kwargs)\u001b[0m\n\u001b[0;32m   4094\u001b[0m                 \u001b[0moffsets\u001b[0m\u001b[1;33m=\u001b[0m\u001b[0moffsets\u001b[0m\u001b[1;33m,\u001b[0m\u001b[1;33m\u001b[0m\u001b[0m\n\u001b[0;32m   4095\u001b[0m                 \u001b[0mtransOffset\u001b[0m\u001b[1;33m=\u001b[0m\u001b[0mkwargs\u001b[0m\u001b[1;33m.\u001b[0m\u001b[0mpop\u001b[0m\u001b[1;33m(\u001b[0m\u001b[1;34m'transform'\u001b[0m\u001b[1;33m,\u001b[0m \u001b[0mself\u001b[0m\u001b[1;33m.\u001b[0m\u001b[0mtransData\u001b[0m\u001b[1;33m)\u001b[0m\u001b[1;33m,\u001b[0m\u001b[1;33m\u001b[0m\u001b[0m\n\u001b[1;32m-> 4096\u001b[1;33m                 \u001b[0malpha\u001b[0m\u001b[1;33m=\u001b[0m\u001b[0malpha\u001b[0m\u001b[1;33m\u001b[0m\u001b[0m\n\u001b[0m\u001b[0;32m   4097\u001b[0m                 )\n\u001b[0;32m   4098\u001b[0m         \u001b[0mcollection\u001b[0m\u001b[1;33m.\u001b[0m\u001b[0mset_transform\u001b[0m\u001b[1;33m(\u001b[0m\u001b[0mmtransforms\u001b[0m\u001b[1;33m.\u001b[0m\u001b[0mIdentityTransform\u001b[0m\u001b[1;33m(\u001b[0m\u001b[1;33m)\u001b[0m\u001b[1;33m)\u001b[0m\u001b[1;33m\u001b[0m\u001b[0m\n",
      "\u001b[1;32m~\\Anaconda\\lib\\site-packages\\matplotlib\\collections.py\u001b[0m in \u001b[0;36m__init__\u001b[1;34m(self, paths, sizes, **kwargs)\u001b[0m\n\u001b[0;32m    861\u001b[0m         \u001b[0mCollection\u001b[0m\u001b[1;33m.\u001b[0m\u001b[0m__init__\u001b[0m\u001b[1;33m(\u001b[0m\u001b[0mself\u001b[0m\u001b[1;33m,\u001b[0m \u001b[1;33m**\u001b[0m\u001b[0mkwargs\u001b[0m\u001b[1;33m)\u001b[0m\u001b[1;33m\u001b[0m\u001b[0m\n\u001b[0;32m    862\u001b[0m         \u001b[0mself\u001b[0m\u001b[1;33m.\u001b[0m\u001b[0mset_paths\u001b[0m\u001b[1;33m(\u001b[0m\u001b[0mpaths\u001b[0m\u001b[1;33m)\u001b[0m\u001b[1;33m\u001b[0m\u001b[0m\n\u001b[1;32m--> 863\u001b[1;33m         \u001b[0mself\u001b[0m\u001b[1;33m.\u001b[0m\u001b[0mset_sizes\u001b[0m\u001b[1;33m(\u001b[0m\u001b[0msizes\u001b[0m\u001b[1;33m)\u001b[0m\u001b[1;33m\u001b[0m\u001b[0m\n\u001b[0m\u001b[0;32m    864\u001b[0m         \u001b[0mself\u001b[0m\u001b[1;33m.\u001b[0m\u001b[0mstale\u001b[0m \u001b[1;33m=\u001b[0m \u001b[1;32mTrue\u001b[0m\u001b[1;33m\u001b[0m\u001b[0m\n\u001b[0;32m    865\u001b[0m \u001b[1;33m\u001b[0m\u001b[0m\n",
      "\u001b[1;32m~\\Anaconda\\lib\\site-packages\\matplotlib\\collections.py\u001b[0m in \u001b[0;36mset_sizes\u001b[1;34m(self, sizes, dpi)\u001b[0m\n\u001b[0;32m    834\u001b[0m             \u001b[0mself\u001b[0m\u001b[1;33m.\u001b[0m\u001b[0m_sizes\u001b[0m \u001b[1;33m=\u001b[0m \u001b[0mnp\u001b[0m\u001b[1;33m.\u001b[0m\u001b[0masarray\u001b[0m\u001b[1;33m(\u001b[0m\u001b[0msizes\u001b[0m\u001b[1;33m)\u001b[0m\u001b[1;33m\u001b[0m\u001b[0m\n\u001b[0;32m    835\u001b[0m             \u001b[0mself\u001b[0m\u001b[1;33m.\u001b[0m\u001b[0m_transforms\u001b[0m \u001b[1;33m=\u001b[0m \u001b[0mnp\u001b[0m\u001b[1;33m.\u001b[0m\u001b[0mzeros\u001b[0m\u001b[1;33m(\u001b[0m\u001b[1;33m(\u001b[0m\u001b[0mlen\u001b[0m\u001b[1;33m(\u001b[0m\u001b[0mself\u001b[0m\u001b[1;33m.\u001b[0m\u001b[0m_sizes\u001b[0m\u001b[1;33m)\u001b[0m\u001b[1;33m,\u001b[0m \u001b[1;36m3\u001b[0m\u001b[1;33m,\u001b[0m \u001b[1;36m3\u001b[0m\u001b[1;33m)\u001b[0m\u001b[1;33m)\u001b[0m\u001b[1;33m\u001b[0m\u001b[0m\n\u001b[1;32m--> 836\u001b[1;33m             \u001b[0mscale\u001b[0m \u001b[1;33m=\u001b[0m \u001b[0mnp\u001b[0m\u001b[1;33m.\u001b[0m\u001b[0msqrt\u001b[0m\u001b[1;33m(\u001b[0m\u001b[0mself\u001b[0m\u001b[1;33m.\u001b[0m\u001b[0m_sizes\u001b[0m\u001b[1;33m)\u001b[0m \u001b[1;33m*\u001b[0m \u001b[0mdpi\u001b[0m \u001b[1;33m/\u001b[0m \u001b[1;36m72.0\u001b[0m \u001b[1;33m*\u001b[0m \u001b[0mself\u001b[0m\u001b[1;33m.\u001b[0m\u001b[0m_factor\u001b[0m\u001b[1;33m\u001b[0m\u001b[0m\n\u001b[0m\u001b[0;32m    837\u001b[0m             \u001b[0mself\u001b[0m\u001b[1;33m.\u001b[0m\u001b[0m_transforms\u001b[0m\u001b[1;33m[\u001b[0m\u001b[1;33m:\u001b[0m\u001b[1;33m,\u001b[0m \u001b[1;36m0\u001b[0m\u001b[1;33m,\u001b[0m \u001b[1;36m0\u001b[0m\u001b[1;33m]\u001b[0m \u001b[1;33m=\u001b[0m \u001b[0mscale\u001b[0m\u001b[1;33m\u001b[0m\u001b[0m\n\u001b[0;32m    838\u001b[0m             \u001b[0mself\u001b[0m\u001b[1;33m.\u001b[0m\u001b[0m_transforms\u001b[0m\u001b[1;33m[\u001b[0m\u001b[1;33m:\u001b[0m\u001b[1;33m,\u001b[0m \u001b[1;36m1\u001b[0m\u001b[1;33m,\u001b[0m \u001b[1;36m1\u001b[0m\u001b[1;33m]\u001b[0m \u001b[1;33m=\u001b[0m \u001b[0mscale\u001b[0m\u001b[1;33m\u001b[0m\u001b[0m\n",
      "\u001b[1;31mTypeError\u001b[0m: ufunc 'sqrt' not supported for the input types, and the inputs could not be safely coerced to any supported types according to the casting rule ''safe''"
     ]
    },
    {
     "data": {
      "image/png": "[encoded data removed]",
      "text/plain": [
       "<matplotlib.figure.Figure at 0x2a7e5427d30>"
      ]
     },
     "metadata": {},
     "output_type": "display_data"
    }
   ],
   "source": [
    "# Plot outputs\n",
    "plt.scatter(X_train[:,0], y_train,  '-b',label=\"actual_CPU_utilization\")\n",
    "plt.plot(y_pred,'r', label=\"predicted_CPU_utilization\")\n",
    "#plt.plot(X_test[:,0], y_pred, color='blue')\n",
    "\n",
    "plt.legend(loc='upper left')\n",
    "plt.show()"
   ]
  },
  {
   "cell_type": "code",
   "execution_count": 22,
   "metadata": {},
   "outputs": [
    {
     "name": "stdout",
     "output_type": "stream",
     "text": [
      "RMs score: 0.06\n"
     ]
    }
   ],
   "source": [
    "#y_test = y_test.reset_index(drop=True)\n",
    "from sklearn.metrics import mean_squared_error\n",
    "from math import sqrt\n",
    "rms = sqrt(mean_squared_error(y_test, y_pred))\n",
    "print('RMs score: %.2f' % rms)"
   ]
  },
  {
   "cell_type": "code",
   "execution_count": 23,
   "metadata": {},
   "outputs": [
    {
     "data": {
      "text/plain": [
       "array([[ 15.34108942]])"
      ]
     },
     "execution_count": 23,
     "metadata": {},
     "output_type": "execute_result"
    }
   ],
   "source": [
    "regr2.predict([[22000, 1000, 3]])"
   ]
  },
  {
   "cell_type": "markdown",
   "metadata": {},
   "source": [
    "import numpy as np\n",
    "dftemp_cpu = dftemp_cpu.replace([np.inf, -np.inf], np.nan)\n",
    "dftemp_cpu = dftemp_cpu.fillna(0)\n",
    "np.all(np.isfinite(dftemp_cpu))\n"
   ]
  },
  {
   "cell_type": "code",
   "execution_count": 24,
   "metadata": {},
   "outputs": [],
   "source": [
    "final_df = final_df.sort_values(['requests'])\n",
    "df_X = final_df[['pod_util_cpu_avg', 'requests_duration_mean' ]].values\n",
    "df_Y = final_df[['requests']].values\n"
   ]
  },
  {
   "cell_type": "code",
   "execution_count": 25,
   "metadata": {},
   "outputs": [
    {
     "data": {
      "text/plain": [
       "(129, 2)"
      ]
     },
     "execution_count": 25,
     "metadata": {},
     "output_type": "execute_result"
    }
   ],
   "source": [
    "df_X.shape"
   ]
  },
  {
   "cell_type": "code",
   "execution_count": 26,
   "metadata": {},
   "outputs": [],
   "source": [
    "X_train, X_test, y_train, y_test = train_test_split(df_X, df_Y, test_size=0.33, random_state=42)\n"
   ]
  },
  {
   "cell_type": "code",
   "execution_count": 72,
   "metadata": {
    "scrolled": true
   },
   "outputs": [
    {
     "name": "stdout",
     "output_type": "stream",
     "text": [
      "Mean squared error: 99109.31\n",
      "Variance score: 0.93\n",
      "Model score 0.93\n",
      "Train Mean squared error: 116483.82\n"
     ]
    }
   ],
   "source": [
    "from sklearn.linear_model import Ridge\n",
    "from sklearn.preprocessing import PolynomialFeatures\n",
    "from sklearn.pipeline import make_pipeline\n",
    "from sklearn.pipeline import Pipeline\n",
    "from sklearn.preprocessing import StandardScaler\n",
    "# Create linear regression object\n",
    "#regr = linear_model.LinearRegression()\n",
    "regr = Pipeline([\n",
    "                  ('linear', linear_model.LinearRegression(fit_intercept=False))])\n",
    "#regr = linear_model.Ridge (alpha = .01)\n",
    "#regr = linear_model.Lasso(alpha = 0.1)\n",
    "#regr = linear_model.LassoLars(alpha=.1)\n",
    "#regr = make_pipeline(PolynomialFeatures(2), Ridge())\n",
    "polybig_features = PolynomialFeatures(degree=1, include_bias=False)\n",
    "std_scaler = StandardScaler()\n",
    "lin_reg = linear_model.LinearRegression()\n",
    "regr = Pipeline([\n",
    "                (\"poly_features\", polybig_features),\n",
    "                (\"std_scaler\", std_scaler),\n",
    "                (\"lin_reg\", lin_reg),\n",
    "            ])\n",
    "# Train the model using the training sets\n",
    "regr.fit(X_train, y_train)\n",
    "\n",
    "# Make predictions using the testing set\n",
    "y_pred = regr.predict(X_test)\n",
    "\n",
    "# The coefficients\n",
    "\n",
    "# The mean squared error\n",
    "print(\"Mean squared error: %.2f\"\n",
    "      % mean_squared_error(y_test, y_pred))\n",
    "# Explained variance score: 1 is perfect prediction\n",
    "print('Variance score: %.2f' % r2_score(y_test, y_pred))\n",
    "\n",
    "print ('Model score %.2f' %  regr.score(X_test, y_test) )\n",
    "#print ('Test score %.2f', regr.score(X_test, y_test) )\n",
    "print(\"Train Mean squared error: %.2f\"\n",
    "      % mean_squared_error(y_train, regr.predict(X_train)))"
   ]
  },
  {
   "cell_type": "code",
   "execution_count": 73,
   "metadata": {},
   "outputs": [
    {
     "name": "stdout",
     "output_type": "stream",
     "text": [
      "RMs score: 314.82\n"
     ]
    }
   ],
   "source": [
    "#y_test = y_test.reset_index(drop=True)\n",
    "from sklearn.metrics import mean_squared_error\n",
    "from math import sqrt\n",
    "rms = sqrt(mean_squared_error(y_test, y_pred))\n",
    "print('RMs score: %.2f' % rms)"
   ]
  },
  {
   "cell_type": "code",
   "execution_count": 78,
   "metadata": {},
   "outputs": [
    {
     "data": {
      "image/png": "[encoded data removed]",
      "text/plain": [
       "<matplotlib.figure.Figure at 0x2a7e612f518>"
      ]
     },
     "metadata": {},
     "output_type": "display_data"
    }
   ],
   "source": [
    "# Plot outputs\n",
    "plt.scatter(X_test[:,0],  y_test,  color='blue',label=\"actual_number_of_requests\")\n",
    "#plt.plot(X_test[:,0], y_pred, color='blue')\n",
    "plt.plot(X_test[:,0], y_pred,'-r',label=\"predicted_number_of_requests\")\n",
    "plt.legend(loc='upper left')\n",
    "plt.show()"
   ]
  },
  {
   "cell_type": "markdown",
   "metadata": {},
   "source": [
    "['pod_util_cpu_avg','requests_duration_mean', 'num_pods', 'pod_cpu_limit', 'pod_mem_limit']"
   ]
  },
  {
   "cell_type": "code",
   "execution_count": 76,
   "metadata": {},
   "outputs": [
    {
     "data": {
      "text/plain": [
       "array([[ 4591.90760572]])"
      ]
     },
     "execution_count": 76,
     "metadata": {},
     "output_type": "execute_result"
    }
   ],
   "source": [
    "regr.predict([[1,1000]])"
   ]
  },
  {
   "cell_type": "code",
   "execution_count": null,
   "metadata": {},
   "outputs": [],
   "source": []
  }
 ],
 "metadata": {
  "kernelspec": {
   "display_name": "Python 3",
   "language": "python",
   "name": "python3"
  },
  "language_info": {
   "codemirror_mode": {
    "name": "ipython",
    "version": 3
   },
   "file_extension": ".py",
   "mimetype": "text/x-python",
   "name": "python",
   "nbconvert_exporter": "python",
   "pygments_lexer": "ipython3",
   "version": "3.5.4"
  }
 },
 "nbformat": 4,
 "nbformat_minor": 2
}
