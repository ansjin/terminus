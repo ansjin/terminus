{
 "cells": [
  {
   "cell_type": "code",
   "execution_count": 1,
   "metadata": {},
   "outputs": [],
   "source": [
    "from influxdb import InfluxDBClient\n",
    "import pandas as pd\n",
    "import matplotlib.pylab as plt\n",
    "%matplotlib inline\n",
    "from matplotlib.pylab import rcParams\n",
    "rcParams['figure.figsize'] = 15, 6\n",
    "plt.style.use('ggplot')\n",
    "from pandas import read_csv"
   ]
  },
  {
   "cell_type": "code",
   "execution_count": 2,
   "metadata": {},
   "outputs": [],
   "source": [
    "folderName = 's1t1rc1nc1t2mediumcomputeprimeappt2micro1r3'\n",
    "host = '10.155.208.132'\n",
    "port = 8086\n",
    "username= 'root'\n",
    "password = 'root'"
   ]
  },
  {
   "cell_type": "code",
   "execution_count": 3,
   "metadata": {},
   "outputs": [],
   "source": [
    "client = InfluxDBClient(host, port,username , password, folderName+'_k8s')\n",
    "clientK6 = InfluxDBClient(host, port, username, password, folderName+'_TestK6')"
   ]
  },
  {
   "cell_type": "code",
   "execution_count": 4,
   "metadata": {},
   "outputs": [],
   "source": [
    "appnames  = [\"primeapp\"]"
   ]
  },
  {
   "cell_type": "code",
   "execution_count": 5,
   "metadata": {},
   "outputs": [],
   "source": [
    "def getAllNodeNames():\n",
    "    queryResult = client.query(\"SHOW TAG VALUES FROM uptime WITH KEY=nodename;\")\n",
    "    nodeNames_temp = list(queryResult.get_points())\n",
    "    dfnodeNames = pd.DataFrame(nodeNames_temp)\n",
    "    allNodeNames = dfnodeNames[:][\"value\"]\n",
    "    return allNodeNames\n",
    "def getNamespaceNames(node):\n",
    "    nsQuery = client.query(\"SHOW TAG VALUES FROM uptime WITH KEY=namespace_name WHERE nodename = '\"+node+\"';\")\n",
    "    nsQuery_temp = list(nsQuery.get_points())\n",
    "    dfnsNames = pd.DataFrame(nsQuery_temp)\n",
    "    allnsNames = dfnsNames[:][\"value\"]\n",
    "    return allnsNames\n",
    "def getAllPodNames(node,ns_name):\n",
    "    queryResult = client.query(\"SHOW TAG VALUES FROM uptime WITH KEY = pod_name WHERE namespace_name = '\"+ns_name+\"' AND nodename = '\"+node+\"';\")\n",
    "    podNames_temp = list(queryResult.get_points())\n",
    "    dfpodNames = pd.DataFrame(podNames_temp)\n",
    "    if dfpodNames.empty: \n",
    "        return dfpodNames\n",
    "    else:\n",
    "        allpodNames = dfpodNames[:][\"value\"]\n",
    "        return allpodNames\n",
    "def getCPUUtilizationNode(node):\n",
    "    queryResult = client.query('SELECT * FROM \"cpu/node_utilization\" where nodename = \\''+node+'\\' AND type=\\'node\\';')\n",
    "    dfcpuUtilization = pd.DataFrame(queryResult['cpu/node_utilization'])\n",
    "    return dfcpuUtilization\n",
    "def getCPUUtilizationPod(node,ns_name, pod_name):\n",
    "    queryResult = client.query('SELECT * FROM \"cpu/usage_rate\" where nodename = \\''+node+'\\' AND pod_name = \\''+pod_name+'\\' AND namespace_name = \\''+ns_name+'\\'  AND type=\\'pod\\';')\n",
    "    dfcpuUtilization = pd.DataFrame(queryResult['cpu/usage_rate'])\n",
    "    return dfcpuUtilization\n",
    "def getCPUUtilizationPodContainer(node,ns_name, pod_name):\n",
    "    queryResult = client.query('SELECT * FROM \"cpu/usage_rate\" where nodename = \\''+node+'\\' AND pod_name = \\''+pod_name+'\\' AND namespace_name = \\''+ns_name+'\\' AND type=\\'pod_container\\';')\n",
    "    dfcpuUtilization = pd.DataFrame(queryResult['cpu/usage_rate'])\n",
    "    return dfcpuUtilization\n",
    "def prepareCpuUtilization(node,ns_name, pod_name):\n",
    "    cpuUtilization = getCPUUtilizationNode(node)\n",
    "    podCpuUtilization = getCPUUtilizationPod(node,ns_name, pod_name)\n",
    "    containercpuUtilization = getCPUUtilizationPodContainer(node,ns_name, pod_name)\n",
    "    plt.plot(cpuUtilization.index, cpuUtilization['value'] *1000, 'r', label=\"node\") # plotting t, a separately \n",
    "    plt.plot(podCpuUtilization.index, podCpuUtilization['value'], 'b', label=\"pod\") # plotting t, b separately \n",
    "    plt.plot(containercpuUtilization.index, containercpuUtilization['value'], 'g', label=\"container\") # plotting t, c separately\n",
    "    plt.legend(loc='upper left')\n",
    "    plt.show()\n",
    "def getMemoryUtilizationNode(node):\n",
    "    queryResult = client.query('SELECT * FROM \"memory/node_utilization\" where nodename = \\''+node+'\\' AND type=\\'node\\';')\n",
    "    dfmemUtilization = pd.DataFrame(queryResult['memory/node_utilization'])\n",
    "    return dfmemUtilization\n",
    "def getMemoryUtilizationPod(node,ns_name, pod_name):\n",
    "    queryResult = client.query('SELECT * FROM \"memory/usage\" where nodename = \\''+node+'\\' AND pod_name = \\''+pod_name+'\\' AND namespace_name = \\''+ns_name+'\\'  AND type=\\'pod\\';')\n",
    "    dfmemUtilization = pd.DataFrame(queryResult['memory/usage'])\n",
    "    return dfmemUtilization\n",
    "def getMemoryUtilizationPodContainer(node,ns_name, pod_name):\n",
    "    queryResult = client.query('SELECT * FROM \"memory/usage\" where nodename = \\''+node+'\\' AND pod_name = \\''+pod_name+'\\' AND namespace_name = \\''+ns_name+'\\' AND type=\\'pod_container\\';')\n",
    "    dfmemUtilization = pd.DataFrame(queryResult['memory/usage'])\n",
    "    return dfmemUtilization\n",
    "def prepareMemoryUtilization(node,ns_name, pod_name):\n",
    "    memoryUtilization = getMemoryUtilizationNode(node)\n",
    "    podMemoryUtilization = getMemoryUtilizationPod(node,ns_name, pod_name)\n",
    "    containerMemoryUtilization = getMemoryUtilizationPodContainer(node,ns_name, pod_name)\n",
    "    plt.plot(memoryUtilization.index, memoryUtilization['value'], 'r', label=\"node\") # plotting t, a separately \n",
    "    plt.plot(podMemoryUtilization.index, podMemoryUtilization['value'], 'b', label=\"pod\") # plotting t, b separately \n",
    "    plt.plot(containerMemoryUtilization.index, containerMemoryUtilization['value'], 'g', label=\"container\") # plotting t, c separately \n",
    "    plt.legend(loc='upper left')\n",
    "    plt.show()\n",
    "def getNetworkTxRatePod(node,ns_name, pod_name):\n",
    "    queryResult = client.query('SELECT * FROM \"network/tx_rate\" where nodename = \\''+node+'\\' AND pod_name = \\''+pod_name+'\\' AND namespace_name = \\''+ns_name+'\\'  AND type=\\'pod\\';')\n",
    "    dfmemUtilization = pd.DataFrame(queryResult['network/tx_rate'])\n",
    "    return dfmemUtilization\n",
    "def getNetworkTxPod(node,ns_name, pod_name):\n",
    "    queryResult = client.query('SELECT * FROM \"network/tx\" where nodename = \\''+node+'\\' AND pod_name = \\''+pod_name+'\\' AND namespace_name = \\''+ns_name+'\\'  AND type=\\'pod\\';')\n",
    "    dfmemUtilization = pd.DataFrame(queryResult['network/tx'])\n",
    "    return dfmemUtilization\n",
    "def getNetworkTxErrorsPod(node,ns_name, pod_name):\n",
    "    queryResult = client.query('SELECT * FROM \"network/tx_errors\" where nodename = \\''+node+'\\' AND pod_name = \\''+pod_name+'\\' AND namespace_name = \\''+ns_name+'\\'  AND type=\\'pod\\';')\n",
    "    dfmemUtilization = pd.DataFrame(queryResult['network/tx_errors'])\n",
    "    return dfmemUtilization\n",
    "def getNetworkTxErrorsRatePod(node,ns_name, pod_name):\n",
    "    queryResult = client.query('SELECT * FROM \"network/tx_errors_rate\" where nodename = \\''+node+'\\' AND pod_name = \\''+pod_name+'\\' AND namespace_name = \\''+ns_name+'\\'  AND type=\\'pod\\';')\n",
    "    dfmemUtilization = pd.DataFrame(queryResult['network/tx_errors_rate'])\n",
    "    return dfmemUtilization\n",
    "def prepareNetworkTxRateUtilization(node,ns_name, pod_name):\n",
    "    podNetworTxRate = getNetworkTxRatePod(node,ns_name, pod_name)\n",
    "    podNetworTx = getNetworkTxPod(node,ns_name, pod_name)\n",
    "    podNetworkError = getNetworkTxErrorsPod(node,ns_name, pod_name)\n",
    "    podNetworkErrorRate = getNetworkTxErrorsRatePod(node,ns_name, pod_name)\n",
    "    plt.plot(podNetworTxRate.index, podNetworTxRate['value'], 'b') # plotting t, b separately \n",
    "    #plt.plot(podNetworTx.index, podNetworTx['value'], 'g') # plotting t, b separately \n",
    "    #plt.plot(podNetworkError.index, podNetworkError['value'], 'y') # plotting t, b separately \n",
    "    plt.plot(podNetworkErrorRate.index, podNetworkErrorRate['value'], 'r') # plotting t, b separately \n",
    "    plt.show()\n",
    "def getNetworkRxRatePod(node,ns_name, pod_name):\n",
    "    queryResult = client.query('SELECT * FROM \"network/rx_rate\" where nodename = \\''+node+'\\' AND pod_name = \\''+pod_name+'\\' AND namespace_name = \\''+ns_name+'\\'  AND type=\\'pod\\';')\n",
    "    dfmemUtilization = pd.DataFrame(queryResult['network/rx_rate'])\n",
    "    return dfmemUtilization\n",
    "def getNetworkRxPod(node,ns_name, pod_name):\n",
    "    queryResult = client.query('SELECT * FROM \"network/rx\" where nodename = \\''+node+'\\' AND pod_name = \\''+pod_name+'\\' AND namespace_name = \\''+ns_name+'\\'  AND type=\\'pod\\';')\n",
    "    dfmemUtilization = pd.DataFrame(queryResult['network/rx'])\n",
    "    return dfmemUtilization\n",
    "\n",
    "def getNetworkRxErrorsPod(node,ns_name, pod_name):\n",
    "    queryResult = client.query('SELECT * FROM \"network/rx_errors\" where nodename = \\''+node+'\\' AND pod_name = \\''+pod_name+'\\' AND namespace_name = \\''+ns_name+'\\'  AND type=\\'pod\\';')\n",
    "    dfmemUtilization = pd.DataFrame(queryResult['network/rx_errors'])\n",
    "    return dfmemUtilization\n",
    "def getNetworkRxErrorsRatePod(node,ns_name, pod_name):\n",
    "    queryResult = client.query('SELECT * FROM \"network/rx_errors_rate\" where nodename = \\''+node+'\\' AND pod_name = \\''+pod_name+'\\' AND namespace_name = \\''+ns_name+'\\'  AND type=\\'pod\\';')\n",
    "    dfmemUtilization = pd.DataFrame(queryResult['network/rx_errors_rate'])\n",
    "    return dfmemUtilization\n",
    "def prepareNetworkRxRateUtilization(node,ns_name, pod_name):\n",
    "    podNetworRxRate = getNetworkRxRatePod(node,ns_name, pod_name)\n",
    "    podNetworRx = getNetworkRxPod(node,ns_name, pod_name)\n",
    "    podNetworkError = getNetworkRxErrorsPod(node,ns_name, pod_name)\n",
    "    podNetworkErrorRate = getNetworkRxErrorsRatePod(node,ns_name, pod_name)\n",
    "    plt.plot(podNetworRxRate.index, podNetworRxRate['value'], 'b') # plotting t, b separately \n",
    "    #plt.plot(podNetworRx.index, podNetworRx['value'], 'g') # plotting t, b separately \n",
    "    #plt.plot(podNetworkError.index, podNetworkError['value'], 'y') # plotting t, b separately \n",
    "    plt.plot(podNetworkErrorRate.index, podNetworkErrorRate['value'], 'r') # plotting t, b separately \n",
    "    plt.show()\n",
    "def getRelevantNodeName(ns_name):\n",
    "    allNodeNames  = getAllNodeNames()\n",
    "    #nsNames = getNamespaceNames(allNodeNames[0])\n",
    "    for node in allNodeNames:\n",
    "        allPodNamesNode = getAllPodNames (node, ns_name)\n",
    "        if(not allPodNamesNode.empty):\n",
    "            return node"
   ]
  },
  {
   "cell_type": "code",
   "execution_count": 6,
   "metadata": {},
   "outputs": [],
   "source": [
    "def getNodeResourceUtilizationDf(nodeName):\n",
    "    Result_node_CPU = client.query(\"SELECT value from \\\"cpu/node_utilization\\\" where nodename = '\"+nodeName+\"' AND type = 'node' \")\n",
    "    Result_node_MEM = client.query(\"SELECT value from \\\"memory/node_utilization\\\" where nodename = '\"+nodeName+\"' AND type = 'node' \")\n",
    "    Result_node_CPU_Cores = client.query(\"SELECT mean(\\\"value\\\") FROM \\\"cpu/node_capacity\\\" where nodename = '\"+nodeName+\"' AND type = 'node' GROUP BY time(1m)\")\n",
    "    Result_node_mem_node = client.query(\"SELECT mean(\\\"value\\\")FROM \\\"memory/node_capacity\\\" where nodename = '\"+nodeName+\"' AND type = 'node' GROUP BY time(1m)\")\n",
    "    \n",
    "    cpu_points = pd.DataFrame(Result_node_CPU.get_points())\n",
    "    cpu_points['time'] = pd.to_datetime(cpu_points['time'])\n",
    "    cpu_points = cpu_points.set_index('time')\n",
    "    cpu_points.columns = ['node_cpu_util']\n",
    "    mem_points = pd.DataFrame(Result_node_MEM.get_points())\n",
    "    mem_points['time'] = pd.to_datetime(mem_points['time'])\n",
    "    mem_points = mem_points.set_index('time')\n",
    "    mem_points.columns = ['node_mem_util']\n",
    "    \n",
    "    cores_points = pd.DataFrame(Result_node_CPU_Cores.get_points())\n",
    "    cores_points['time'] = pd.to_datetime(cores_points['time'])\n",
    "    cores_points = cores_points.set_index('time')\n",
    "    cores_points.columns = ['node_cores']\n",
    "    \n",
    "    mem_node_points = pd.DataFrame(Result_node_mem_node.get_points())\n",
    "    mem_node_points['time'] = pd.to_datetime(mem_node_points['time'])\n",
    "    mem_node_points = mem_node_points.set_index('time')\n",
    "    mem_node_points.columns = ['node_mem']\n",
    "    \n",
    "    df_node =pd.concat([cpu_points, mem_points,cores_points,mem_node_points], axis=1)\n",
    "    return df_node"
   ]
  },
  {
   "cell_type": "code",
   "execution_count": 7,
   "metadata": {},
   "outputs": [],
   "source": [
    "def getPodResourceUtilizationDf(node, ns_name, pod_name):\n",
    "    Result_Pod_CPU_usage = client.query('SELECT value FROM \"cpu/usage_rate\" where nodename = \\''+node+'\\' AND pod_name = \\''+pod_name+'\\' AND namespace_name = \\''+ns_name+'\\'  AND type=\\'pod\\';')\n",
    "    Result_Pod_MEM_usage = client.query('SELECT value from \\\"memory/usage\\\" where nodename = \\''+node+'\\' AND pod_name = \\''+pod_name+'\\' AND namespace_name = \\''+ns_name+'\\'  AND type=\\'pod\\';')\n",
    "    \n",
    "    Result_Pod_CPU_limit = client.query('SELECT mean(\\\"value\\\") FROM \"cpu/limit\" where nodename = \\''+node+'\\' AND pod_name = \\''+pod_name+'\\' AND namespace_name = \\''+ns_name+'\\'  AND type=\\'pod\\' group by time(1m);')\n",
    "    Result_Pod_MEM_limit = client.query('SELECT mean(\\\"value\\\") from \\\"memory/limit\\\" where nodename = \\''+node+'\\' AND pod_name = \\''+pod_name+'\\' AND namespace_name = \\''+ns_name+'\\'  AND type=\\'pod\\' group by time(1m);')\n",
    "    \n",
    "    Result_Pod_CPU_requests = client.query('SELECT mean(\\\"value\\\") FROM \"cpu/request\" where nodename = \\''+node+'\\' AND pod_name = \\''+pod_name+'\\' AND namespace_name = \\''+ns_name+'\\'  AND type=\\'pod\\' group by time(1m);')\n",
    "    Result_Pod_MEM_requests = client.query('SELECT mean(\\\"value\\\") from \\\"memory/request\\\" where nodename = \\''+node+'\\' AND pod_name = \\''+pod_name+'\\' AND namespace_name = \\''+ns_name+'\\'  AND type=\\'pod\\' group by time(1m);')\n",
    "    \n",
    "    \n",
    "    cpu_points_usage = pd.DataFrame(Result_Pod_CPU_usage.get_points())\n",
    "    cpu_points_usage['time'] = pd.to_datetime(cpu_points_usage['time'])\n",
    "    cpu_points_usage = cpu_points_usage.set_index('time')\n",
    "    cpu_points_usage.columns = ['pod_cpu_usage']\n",
    "    \n",
    "    \n",
    "    mem_points_usage = pd.DataFrame(Result_Pod_MEM_usage.get_points())\n",
    "    mem_points_usage['time'] = pd.to_datetime(mem_points_usage['time'])\n",
    "    mem_points_usage = mem_points_usage.set_index('time')\n",
    "    mem_points_usage.columns = ['pod_mem_usage']\n",
    "    \n",
    "     \n",
    "    cpu_points_limits = pd.DataFrame(Result_Pod_CPU_limit.get_points())\n",
    "    cpu_points_limits['time'] = pd.to_datetime(cpu_points_limits['time'])\n",
    "    cpu_points_limits = cpu_points_limits.set_index('time')\n",
    "    cpu_points_limits.columns = ['pod_cpu_limit']\n",
    "    \n",
    "    \n",
    "    mem_points_limits = pd.DataFrame(Result_Pod_MEM_limit.get_points())\n",
    "    mem_points_limits['time'] = pd.to_datetime(mem_points_limits['time'])\n",
    "    mem_points_limits = mem_points_limits.set_index('time')\n",
    "    mem_points_limits.columns = ['pod_mem_limit']\n",
    "    \n",
    "     \n",
    "    cpu_points_request = pd.DataFrame(Result_Pod_CPU_requests.get_points())\n",
    "    cpu_points_request['time'] = pd.to_datetime(cpu_points_request['time'])\n",
    "    cpu_points_request = cpu_points_request.set_index('time')\n",
    "    cpu_points_request.columns = ['pod_cpu_request']\n",
    "    \n",
    "    \n",
    "    mem_points_request = pd.DataFrame(Result_Pod_MEM_requests.get_points())\n",
    "    mem_points_request['time'] = pd.to_datetime(mem_points_request['time'])\n",
    "    mem_points_request = mem_points_request.set_index('time')\n",
    "    mem_points_request.columns = ['pod_mem_request']\n",
    "       \n",
    "    df_pod =pd.concat([cpu_points_usage, mem_points_usage,cpu_points_limits,mem_points_limits,cpu_points_request,mem_points_request ], axis=1)\n",
    "    \n",
    "    return df_pod"
   ]
  },
  {
   "cell_type": "code",
   "execution_count": 8,
   "metadata": {},
   "outputs": [],
   "source": [
    "def getRequestsDf():\n",
    "    queryResult = clientK6.query('SELECT sum(\"value\") FROM \"vus\" group by time(1m);')\n",
    "    vus = pd.DataFrame(queryResult['vus'])\n",
    "    vus.columns = ['vus','time']\n",
    "    vus = vus.set_index('time')\n",
    "\n",
    "\n",
    "    queryResultReqs = clientK6.query('SELECT sum(\"value\") FROM \"http_reqs\" group by time(1m);')\n",
    "    reqs = pd.DataFrame(queryResultReqs['http_reqs'])\n",
    "    reqs.columns = ['requests','time']\n",
    "    reqs = reqs.set_index('time')\n",
    "    queryResultReqsDuration95 = clientK6.query('SELECT percentile(\"value\", 95) FROM \"http_req_duration\" group by time(1m) ;')\n",
    "    reqs_duration95 = pd.DataFrame(queryResultReqsDuration95['http_req_duration'])\n",
    "    reqs_duration95.columns = [ 'requests_duration_percentile_95','time']\n",
    "    reqs_duration95 = reqs_duration95.set_index('time')\n",
    "    queryResultReqsDuration90 = clientK6.query('SELECT percentile(\"value\", 90) FROM \"http_req_duration\" group by time(1m) ;')\n",
    "    reqs_duration90 = pd.DataFrame(queryResultReqsDuration90['http_req_duration'])\n",
    "    reqs_duration90.columns = ['requests_duration_percentile_90','time']\n",
    "    reqs_duration90 = reqs_duration90.set_index('time')\n",
    "\n",
    "    queryResultMaxDuration = clientK6.query('SELECT max(\"value\") FROM \"http_req_duration\" group by time(1m);')\n",
    "    reqs_duration_max = pd.DataFrame(queryResultMaxDuration['http_req_duration'])\n",
    "    reqs_duration_max.columns = ['requests_duration_max','time']\n",
    "    reqs_duration_max = reqs_duration_max.set_index('time')\n",
    "\n",
    "    queryResultMinDuration = clientK6.query('SELECT min(\"value\") FROM \"http_req_duration\" group by time(1m);')\n",
    "    reqs_duration_min = pd.DataFrame(queryResultMinDuration['http_req_duration'])\n",
    "    reqs_duration_min.columns = ['requests_duration_min','time']\n",
    "    reqs_duration_min = reqs_duration_min.set_index('time')\n",
    "\n",
    "    queryResultMeanDuration = clientK6.query('SELECT mean(\"value\") FROM \"http_req_duration\" group by time(1m);')\n",
    "    reqs_duration_mean = pd.DataFrame(queryResultMeanDuration['http_req_duration'])\n",
    "    reqs_duration_mean.columns = ['requests_duration_mean','time']\n",
    "    reqs_duration_mean = reqs_duration_mean.set_index('time')\n",
    "\n",
    "    queryResultMedianDuration = clientK6.query('SELECT median(\"value\") FROM \"http_req_duration\" group by time(1m);')\n",
    "    reqs_duration_median = pd.DataFrame(queryResultMedianDuration['http_req_duration'])\n",
    "    reqs_duration_median.columns = ['requests_duration_median','time']\n",
    "    reqs_duration_median = reqs_duration_median.set_index('time')\n",
    "\n",
    "    finalDF = pd.merge(vus, reqs, left_index=True, right_index=True)\n",
    "    finalDF = pd.merge(finalDF, reqs_duration95, left_index=True, right_index=True)\n",
    "    finalDF = pd.merge(finalDF, reqs_duration90, left_index=True, right_index=True)\n",
    "    finalDF = pd.merge(finalDF,reqs_duration_max, left_index=True, right_index=True)\n",
    "    finalDF = pd.merge(finalDF,reqs_duration_min, left_index=True, right_index=True)\n",
    "    finalDF = pd.merge(finalDF,reqs_duration_mean, left_index=True, right_index=True)\n",
    "    finalDF = pd.merge(finalDF,reqs_duration_median, left_index=True, right_index=True)\n",
    "    finalDF.index = pd.to_datetime(finalDF.index)\n",
    "\n",
    "    return finalDF"
   ]
  },
  {
   "cell_type": "code",
   "execution_count": 9,
   "metadata": {},
   "outputs": [],
   "source": [
    "def getPodsNodesRequestsDf():\n",
    "    default_ns_name =  \"default\"\n",
    "    relevantNodeName = getRelevantNodeName(default_ns_name)\n",
    "    podNames = getAllPodNames(relevantNodeName, default_ns_name)\n",
    "    df_node = getNodeResourceUtilizationDf(relevantNodeName)\n",
    "    df_pods_node = []\n",
    "    for podName in podNames: \n",
    "        df_pod = getPodResourceUtilizationDf(relevantNodeName, default_ns_name, podName)\n",
    "        finalDF = pd.merge(df_node,df_pod, left_index=True, right_index=True)\n",
    "        requestsDF = getRequestsDf()\n",
    "        finalDF = pd.merge(finalDF,requestsDF, left_index=True, right_index=True)\n",
    "        finalDF['pod_cpu_usage'] = finalDF['pod_cpu_usage']\n",
    "        finalDF['pod_cpu_limit'] = finalDF['pod_cpu_limit']\n",
    "        finalDF['pod_cpu_request'] = finalDF['pod_cpu_request']\n",
    " \n",
    "        finalDF['pod_mem_usage'] = finalDF['pod_mem_usage']\n",
    "        finalDF['pod_mem_limit'] = finalDF['pod_mem_limit']\n",
    "        finalDF['pod_mem_request'] = finalDF['pod_mem_request']\n",
    "        \n",
    "        finalDF['node_cores'] = finalDF['node_cores']/1000\n",
    "        finalDF['node_mem'] = finalDF['node_mem']/(1073741824)\n",
    "        \n",
    "        finalDF = finalDF.fillna(0)\n",
    "        finalDF = finalDF[(finalDF.T != 0).any()]\n",
    "        df_pods_node.append(finalDF)\n",
    "    return df_pods_node"
   ]
  },
  {
   "cell_type": "code",
   "execution_count": 10,
   "metadata": {},
   "outputs": [],
   "source": [
    "df_pods_node = getPodsNodesRequestsDf()\n"
   ]
  },
  {
   "cell_type": "code",
   "execution_count": 11,
   "metadata": {},
   "outputs": [
    {
     "data": {
      "text/html": [
       "<div>\n",
       "<style scoped>\n",
       "    .dataframe tbody tr th:only-of-type {\n",
       "        vertical-align: middle;\n",
       "    }\n",
       "\n",
       "    .dataframe tbody tr th {\n",
       "        vertical-align: top;\n",
       "    }\n",
       "\n",
       "    .dataframe thead th {\n",
       "        text-align: right;\n",
       "    }\n",
       "</style>\n",
       "<table border=\"1\" class=\"dataframe\">\n",
       "  <thead>\n",
       "    <tr style=\"text-align: right;\">\n",
       "      <th></th>\n",
       "      <th>node_cpu_util</th>\n",
       "      <th>node_mem_util</th>\n",
       "      <th>node_cores</th>\n",
       "      <th>node_mem</th>\n",
       "      <th>pod_cpu_usage</th>\n",
       "      <th>pod_mem_usage</th>\n",
       "      <th>pod_cpu_limit</th>\n",
       "      <th>pod_mem_limit</th>\n",
       "      <th>pod_cpu_request</th>\n",
       "      <th>pod_mem_request</th>\n",
       "      <th>vus</th>\n",
       "      <th>requests</th>\n",
       "      <th>requests_duration_percentile_95</th>\n",
       "      <th>requests_duration_percentile_90</th>\n",
       "      <th>requests_duration_max</th>\n",
       "      <th>requests_duration_min</th>\n",
       "      <th>requests_duration_mean</th>\n",
       "      <th>requests_duration_median</th>\n",
       "    </tr>\n",
       "    <tr>\n",
       "      <th>time</th>\n",
       "      <th></th>\n",
       "      <th></th>\n",
       "      <th></th>\n",
       "      <th></th>\n",
       "      <th></th>\n",
       "      <th></th>\n",
       "      <th></th>\n",
       "      <th></th>\n",
       "      <th></th>\n",
       "      <th></th>\n",
       "      <th></th>\n",
       "      <th></th>\n",
       "      <th></th>\n",
       "      <th></th>\n",
       "      <th></th>\n",
       "      <th></th>\n",
       "      <th></th>\n",
       "      <th></th>\n",
       "    </tr>\n",
       "  </thead>\n",
       "  <tbody>\n",
       "    <tr>\n",
       "      <th>2018-08-17 17:42:00</th>\n",
       "      <td>0.0175</td>\n",
       "      <td>0.694826</td>\n",
       "      <td>2.0</td>\n",
       "      <td>3.86171</td>\n",
       "      <td>0.0</td>\n",
       "      <td>15839232.0</td>\n",
       "      <td>1000.0</td>\n",
       "      <td>1.048576e+09</td>\n",
       "      <td>1000.0</td>\n",
       "      <td>1.048576e+09</td>\n",
       "      <td>48.0</td>\n",
       "      <td>49.0</td>\n",
       "      <td>28.680434</td>\n",
       "      <td>23.595593</td>\n",
       "      <td>33.267275</td>\n",
       "      <td>14.001301</td>\n",
       "      <td>17.456262</td>\n",
       "      <td>15.485688</td>\n",
       "    </tr>\n",
       "    <tr>\n",
       "      <th>2018-08-17 17:43:00</th>\n",
       "      <td>0.0230</td>\n",
       "      <td>0.697415</td>\n",
       "      <td>2.0</td>\n",
       "      <td>3.86171</td>\n",
       "      <td>11.0</td>\n",
       "      <td>31027200.0</td>\n",
       "      <td>1000.0</td>\n",
       "      <td>1.048576e+09</td>\n",
       "      <td>1000.0</td>\n",
       "      <td>1.048576e+09</td>\n",
       "      <td>112.0</td>\n",
       "      <td>113.0</td>\n",
       "      <td>23.327960</td>\n",
       "      <td>22.736234</td>\n",
       "      <td>120.707130</td>\n",
       "      <td>13.360473</td>\n",
       "      <td>17.506567</td>\n",
       "      <td>14.616065</td>\n",
       "    </tr>\n",
       "    <tr>\n",
       "      <th>2018-08-17 17:44:00</th>\n",
       "      <td>0.0290</td>\n",
       "      <td>0.699065</td>\n",
       "      <td>2.0</td>\n",
       "      <td>3.86171</td>\n",
       "      <td>26.0</td>\n",
       "      <td>39071744.0</td>\n",
       "      <td>1000.0</td>\n",
       "      <td>1.048576e+09</td>\n",
       "      <td>1000.0</td>\n",
       "      <td>1.048576e+09</td>\n",
       "      <td>174.0</td>\n",
       "      <td>171.0</td>\n",
       "      <td>23.119134</td>\n",
       "      <td>22.779864</td>\n",
       "      <td>70.187173</td>\n",
       "      <td>13.252257</td>\n",
       "      <td>16.732444</td>\n",
       "      <td>13.994267</td>\n",
       "    </tr>\n",
       "    <tr>\n",
       "      <th>2018-08-17 17:45:00</th>\n",
       "      <td>0.0380</td>\n",
       "      <td>0.698814</td>\n",
       "      <td>2.0</td>\n",
       "      <td>3.86171</td>\n",
       "      <td>40.0</td>\n",
       "      <td>47370240.0</td>\n",
       "      <td>1000.0</td>\n",
       "      <td>1.048576e+09</td>\n",
       "      <td>1000.0</td>\n",
       "      <td>1.048576e+09</td>\n",
       "      <td>236.0</td>\n",
       "      <td>232.0</td>\n",
       "      <td>23.927934</td>\n",
       "      <td>22.945007</td>\n",
       "      <td>53.957290</td>\n",
       "      <td>13.247814</td>\n",
       "      <td>17.237662</td>\n",
       "      <td>13.926458</td>\n",
       "    </tr>\n",
       "    <tr>\n",
       "      <th>2018-08-17 17:46:00</th>\n",
       "      <td>0.0490</td>\n",
       "      <td>0.698957</td>\n",
       "      <td>2.0</td>\n",
       "      <td>3.86171</td>\n",
       "      <td>64.0</td>\n",
       "      <td>46202880.0</td>\n",
       "      <td>1000.0</td>\n",
       "      <td>1.048576e+09</td>\n",
       "      <td>1000.0</td>\n",
       "      <td>1.048576e+09</td>\n",
       "      <td>406.0</td>\n",
       "      <td>395.0</td>\n",
       "      <td>23.086456</td>\n",
       "      <td>22.696152</td>\n",
       "      <td>106.487614</td>\n",
       "      <td>13.226579</td>\n",
       "      <td>16.508124</td>\n",
       "      <td>13.950859</td>\n",
       "    </tr>\n",
       "  </tbody>\n",
       "</table>\n",
       "</div>"
      ],
      "text/plain": [
       "                     node_cpu_util  node_mem_util  node_cores  node_mem  \\\n",
       "time                                                                      \n",
       "2018-08-17 17:42:00         0.0175       0.694826         2.0   3.86171   \n",
       "2018-08-17 17:43:00         0.0230       0.697415         2.0   3.86171   \n",
       "2018-08-17 17:44:00         0.0290       0.699065         2.0   3.86171   \n",
       "2018-08-17 17:45:00         0.0380       0.698814         2.0   3.86171   \n",
       "2018-08-17 17:46:00         0.0490       0.698957         2.0   3.86171   \n",
       "\n",
       "                     pod_cpu_usage  pod_mem_usage  pod_cpu_limit  \\\n",
       "time                                                               \n",
       "2018-08-17 17:42:00            0.0     15839232.0         1000.0   \n",
       "2018-08-17 17:43:00           11.0     31027200.0         1000.0   \n",
       "2018-08-17 17:44:00           26.0     39071744.0         1000.0   \n",
       "2018-08-17 17:45:00           40.0     47370240.0         1000.0   \n",
       "2018-08-17 17:46:00           64.0     46202880.0         1000.0   \n",
       "\n",
       "                     pod_mem_limit  pod_cpu_request  pod_mem_request    vus  \\\n",
       "time                                                                          \n",
       "2018-08-17 17:42:00   1.048576e+09           1000.0     1.048576e+09   48.0   \n",
       "2018-08-17 17:43:00   1.048576e+09           1000.0     1.048576e+09  112.0   \n",
       "2018-08-17 17:44:00   1.048576e+09           1000.0     1.048576e+09  174.0   \n",
       "2018-08-17 17:45:00   1.048576e+09           1000.0     1.048576e+09  236.0   \n",
       "2018-08-17 17:46:00   1.048576e+09           1000.0     1.048576e+09  406.0   \n",
       "\n",
       "                     requests  requests_duration_percentile_95  \\\n",
       "time                                                             \n",
       "2018-08-17 17:42:00      49.0                        28.680434   \n",
       "2018-08-17 17:43:00     113.0                        23.327960   \n",
       "2018-08-17 17:44:00     171.0                        23.119134   \n",
       "2018-08-17 17:45:00     232.0                        23.927934   \n",
       "2018-08-17 17:46:00     395.0                        23.086456   \n",
       "\n",
       "                     requests_duration_percentile_90  requests_duration_max  \\\n",
       "time                                                                          \n",
       "2018-08-17 17:42:00                        23.595593              33.267275   \n",
       "2018-08-17 17:43:00                        22.736234             120.707130   \n",
       "2018-08-17 17:44:00                        22.779864              70.187173   \n",
       "2018-08-17 17:45:00                        22.945007              53.957290   \n",
       "2018-08-17 17:46:00                        22.696152             106.487614   \n",
       "\n",
       "                     requests_duration_min  requests_duration_mean  \\\n",
       "time                                                                 \n",
       "2018-08-17 17:42:00              14.001301               17.456262   \n",
       "2018-08-17 17:43:00              13.360473               17.506567   \n",
       "2018-08-17 17:44:00              13.252257               16.732444   \n",
       "2018-08-17 17:45:00              13.247814               17.237662   \n",
       "2018-08-17 17:46:00              13.226579               16.508124   \n",
       "\n",
       "                     requests_duration_median  \n",
       "time                                           \n",
       "2018-08-17 17:42:00                 15.485688  \n",
       "2018-08-17 17:43:00                 14.616065  \n",
       "2018-08-17 17:44:00                 13.994267  \n",
       "2018-08-17 17:45:00                 13.926458  \n",
       "2018-08-17 17:46:00                 13.950859  "
      ]
     },
     "execution_count": 11,
     "metadata": {},
     "output_type": "execute_result"
    }
   ],
   "source": [
    "df_pods_node[0].head()\n"
   ]
  },
  {
   "cell_type": "code",
   "execution_count": 12,
   "metadata": {},
   "outputs": [],
   "source": [
    "df_pods_node[0] = df_pods_node[0].reset_index(drop=True)\n"
   ]
  },
  {
   "cell_type": "code",
   "execution_count": 13,
   "metadata": {},
   "outputs": [
    {
     "data": {
      "image/png": "[encoded data removed]",
      "text/plain": [
       "<matplotlib.figure.Figure at 0x1d524dd4240>"
      ]
     },
     "metadata": {},
     "output_type": "display_data"
    }
   ],
   "source": [
    "plt.plot(df_pods_node[0]['requests'])\n",
    "plt.title(\"RPM\")\n",
    "plt.ylabel(\"RPM\")\n",
    "plt.grid(True)\n",
    "plt.show()"
   ]
  },
  {
   "cell_type": "markdown",
   "metadata": {},
   "source": [
    "# Node Utilization (CPU and memory)"
   ]
  },
  {
   "cell_type": "code",
   "execution_count": 16,
   "metadata": {},
   "outputs": [
    {
     "data": {
      "image/png": "[encoded data removed]",
      "text/plain": [
       "<matplotlib.figure.Figure at 0x1d525337eb8>"
      ]
     },
     "metadata": {},
     "output_type": "display_data"
    }
   ],
   "source": [
    "plt.figure()\n",
    "plt.plot(df_pods_node[0]['pod_cpu_usage'], label='pod_cpu_usage')\n",
    "#plt.plot(df_pods_node[0]['pod_mem_usage'], label='pod_mem_usage')\n",
    "plt.legend()\n",
    "plt.show()"
   ]
  },
  {
   "cell_type": "code",
   "execution_count": 17,
   "metadata": {},
   "outputs": [
    {
     "data": {
      "text/html": [
       "<div>\n",
       "<style scoped>\n",
       "    .dataframe tbody tr th:only-of-type {\n",
       "        vertical-align: middle;\n",
       "    }\n",
       "\n",
       "    .dataframe tbody tr th {\n",
       "        vertical-align: top;\n",
       "    }\n",
       "\n",
       "    .dataframe thead th {\n",
       "        text-align: right;\n",
       "    }\n",
       "</style>\n",
       "<table border=\"1\" class=\"dataframe\">\n",
       "  <thead>\n",
       "    <tr style=\"text-align: right;\">\n",
       "      <th></th>\n",
       "      <th>node_cpu_util</th>\n",
       "      <th>node_mem_util</th>\n",
       "      <th>node_cores</th>\n",
       "      <th>node_mem</th>\n",
       "      <th>pod_cpu_usage</th>\n",
       "      <th>pod_mem_usage</th>\n",
       "      <th>pod_cpu_limit</th>\n",
       "      <th>pod_mem_limit</th>\n",
       "      <th>pod_cpu_request</th>\n",
       "      <th>pod_mem_request</th>\n",
       "      <th>vus</th>\n",
       "      <th>requests</th>\n",
       "      <th>requests_duration_percentile_95</th>\n",
       "      <th>requests_duration_percentile_90</th>\n",
       "      <th>requests_duration_max</th>\n",
       "      <th>requests_duration_min</th>\n",
       "      <th>requests_duration_mean</th>\n",
       "      <th>requests_duration_median</th>\n",
       "    </tr>\n",
       "  </thead>\n",
       "  <tbody>\n",
       "    <tr>\n",
       "      <th>node_cpu_util</th>\n",
       "      <td>1.000000</td>\n",
       "      <td>0.769254</td>\n",
       "      <td>NaN</td>\n",
       "      <td>NaN</td>\n",
       "      <td>0.986160</td>\n",
       "      <td>0.349985</td>\n",
       "      <td>NaN</td>\n",
       "      <td>NaN</td>\n",
       "      <td>NaN</td>\n",
       "      <td>NaN</td>\n",
       "      <td>0.865991</td>\n",
       "      <td>0.919173</td>\n",
       "      <td>0.738187</td>\n",
       "      <td>0.728460</td>\n",
       "      <td>0.739109</td>\n",
       "      <td>0.215224</td>\n",
       "      <td>0.717530</td>\n",
       "      <td>0.715969</td>\n",
       "    </tr>\n",
       "    <tr>\n",
       "      <th>node_mem_util</th>\n",
       "      <td>0.769254</td>\n",
       "      <td>1.000000</td>\n",
       "      <td>NaN</td>\n",
       "      <td>NaN</td>\n",
       "      <td>0.769658</td>\n",
       "      <td>0.378766</td>\n",
       "      <td>NaN</td>\n",
       "      <td>NaN</td>\n",
       "      <td>NaN</td>\n",
       "      <td>NaN</td>\n",
       "      <td>0.773670</td>\n",
       "      <td>0.681589</td>\n",
       "      <td>0.733472</td>\n",
       "      <td>0.735762</td>\n",
       "      <td>0.746754</td>\n",
       "      <td>0.287223</td>\n",
       "      <td>0.735368</td>\n",
       "      <td>0.735926</td>\n",
       "    </tr>\n",
       "    <tr>\n",
       "      <th>node_cores</th>\n",
       "      <td>NaN</td>\n",
       "      <td>NaN</td>\n",
       "      <td>NaN</td>\n",
       "      <td>NaN</td>\n",
       "      <td>NaN</td>\n",
       "      <td>NaN</td>\n",
       "      <td>NaN</td>\n",
       "      <td>NaN</td>\n",
       "      <td>NaN</td>\n",
       "      <td>NaN</td>\n",
       "      <td>NaN</td>\n",
       "      <td>NaN</td>\n",
       "      <td>NaN</td>\n",
       "      <td>NaN</td>\n",
       "      <td>NaN</td>\n",
       "      <td>NaN</td>\n",
       "      <td>NaN</td>\n",
       "      <td>NaN</td>\n",
       "    </tr>\n",
       "    <tr>\n",
       "      <th>node_mem</th>\n",
       "      <td>NaN</td>\n",
       "      <td>NaN</td>\n",
       "      <td>NaN</td>\n",
       "      <td>NaN</td>\n",
       "      <td>NaN</td>\n",
       "      <td>NaN</td>\n",
       "      <td>NaN</td>\n",
       "      <td>NaN</td>\n",
       "      <td>NaN</td>\n",
       "      <td>NaN</td>\n",
       "      <td>NaN</td>\n",
       "      <td>NaN</td>\n",
       "      <td>NaN</td>\n",
       "      <td>NaN</td>\n",
       "      <td>NaN</td>\n",
       "      <td>NaN</td>\n",
       "      <td>NaN</td>\n",
       "      <td>NaN</td>\n",
       "    </tr>\n",
       "    <tr>\n",
       "      <th>pod_cpu_usage</th>\n",
       "      <td>0.986160</td>\n",
       "      <td>0.769658</td>\n",
       "      <td>NaN</td>\n",
       "      <td>NaN</td>\n",
       "      <td>1.000000</td>\n",
       "      <td>0.379345</td>\n",
       "      <td>NaN</td>\n",
       "      <td>NaN</td>\n",
       "      <td>NaN</td>\n",
       "      <td>NaN</td>\n",
       "      <td>0.868082</td>\n",
       "      <td>0.923313</td>\n",
       "      <td>0.739916</td>\n",
       "      <td>0.731091</td>\n",
       "      <td>0.739827</td>\n",
       "      <td>0.236290</td>\n",
       "      <td>0.720008</td>\n",
       "      <td>0.718182</td>\n",
       "    </tr>\n",
       "    <tr>\n",
       "      <th>pod_mem_usage</th>\n",
       "      <td>0.349985</td>\n",
       "      <td>0.378766</td>\n",
       "      <td>NaN</td>\n",
       "      <td>NaN</td>\n",
       "      <td>0.379345</td>\n",
       "      <td>1.000000</td>\n",
       "      <td>NaN</td>\n",
       "      <td>NaN</td>\n",
       "      <td>NaN</td>\n",
       "      <td>NaN</td>\n",
       "      <td>0.222435</td>\n",
       "      <td>0.304533</td>\n",
       "      <td>0.147974</td>\n",
       "      <td>0.142221</td>\n",
       "      <td>0.152019</td>\n",
       "      <td>0.064289</td>\n",
       "      <td>0.139801</td>\n",
       "      <td>0.140775</td>\n",
       "    </tr>\n",
       "    <tr>\n",
       "      <th>pod_cpu_limit</th>\n",
       "      <td>NaN</td>\n",
       "      <td>NaN</td>\n",
       "      <td>NaN</td>\n",
       "      <td>NaN</td>\n",
       "      <td>NaN</td>\n",
       "      <td>NaN</td>\n",
       "      <td>NaN</td>\n",
       "      <td>NaN</td>\n",
       "      <td>NaN</td>\n",
       "      <td>NaN</td>\n",
       "      <td>NaN</td>\n",
       "      <td>NaN</td>\n",
       "      <td>NaN</td>\n",
       "      <td>NaN</td>\n",
       "      <td>NaN</td>\n",
       "      <td>NaN</td>\n",
       "      <td>NaN</td>\n",
       "      <td>NaN</td>\n",
       "    </tr>\n",
       "    <tr>\n",
       "      <th>pod_mem_limit</th>\n",
       "      <td>NaN</td>\n",
       "      <td>NaN</td>\n",
       "      <td>NaN</td>\n",
       "      <td>NaN</td>\n",
       "      <td>NaN</td>\n",
       "      <td>NaN</td>\n",
       "      <td>NaN</td>\n",
       "      <td>NaN</td>\n",
       "      <td>NaN</td>\n",
       "      <td>NaN</td>\n",
       "      <td>NaN</td>\n",
       "      <td>NaN</td>\n",
       "      <td>NaN</td>\n",
       "      <td>NaN</td>\n",
       "      <td>NaN</td>\n",
       "      <td>NaN</td>\n",
       "      <td>NaN</td>\n",
       "      <td>NaN</td>\n",
       "    </tr>\n",
       "    <tr>\n",
       "      <th>pod_cpu_request</th>\n",
       "      <td>NaN</td>\n",
       "      <td>NaN</td>\n",
       "      <td>NaN</td>\n",
       "      <td>NaN</td>\n",
       "      <td>NaN</td>\n",
       "      <td>NaN</td>\n",
       "      <td>NaN</td>\n",
       "      <td>NaN</td>\n",
       "      <td>NaN</td>\n",
       "      <td>NaN</td>\n",
       "      <td>NaN</td>\n",
       "      <td>NaN</td>\n",
       "      <td>NaN</td>\n",
       "      <td>NaN</td>\n",
       "      <td>NaN</td>\n",
       "      <td>NaN</td>\n",
       "      <td>NaN</td>\n",
       "      <td>NaN</td>\n",
       "    </tr>\n",
       "    <tr>\n",
       "      <th>pod_mem_request</th>\n",
       "      <td>NaN</td>\n",
       "      <td>NaN</td>\n",
       "      <td>NaN</td>\n",
       "      <td>NaN</td>\n",
       "      <td>NaN</td>\n",
       "      <td>NaN</td>\n",
       "      <td>NaN</td>\n",
       "      <td>NaN</td>\n",
       "      <td>NaN</td>\n",
       "      <td>NaN</td>\n",
       "      <td>NaN</td>\n",
       "      <td>NaN</td>\n",
       "      <td>NaN</td>\n",
       "      <td>NaN</td>\n",
       "      <td>NaN</td>\n",
       "      <td>NaN</td>\n",
       "      <td>NaN</td>\n",
       "      <td>NaN</td>\n",
       "    </tr>\n",
       "    <tr>\n",
       "      <th>vus</th>\n",
       "      <td>0.865991</td>\n",
       "      <td>0.773670</td>\n",
       "      <td>NaN</td>\n",
       "      <td>NaN</td>\n",
       "      <td>0.868082</td>\n",
       "      <td>0.222435</td>\n",
       "      <td>NaN</td>\n",
       "      <td>NaN</td>\n",
       "      <td>NaN</td>\n",
       "      <td>NaN</td>\n",
       "      <td>1.000000</td>\n",
       "      <td>0.913597</td>\n",
       "      <td>0.901244</td>\n",
       "      <td>0.902775</td>\n",
       "      <td>0.908951</td>\n",
       "      <td>0.375226</td>\n",
       "      <td>0.902988</td>\n",
       "      <td>0.900128</td>\n",
       "    </tr>\n",
       "    <tr>\n",
       "      <th>requests</th>\n",
       "      <td>0.919173</td>\n",
       "      <td>0.681589</td>\n",
       "      <td>NaN</td>\n",
       "      <td>NaN</td>\n",
       "      <td>0.923313</td>\n",
       "      <td>0.304533</td>\n",
       "      <td>NaN</td>\n",
       "      <td>NaN</td>\n",
       "      <td>NaN</td>\n",
       "      <td>NaN</td>\n",
       "      <td>0.913597</td>\n",
       "      <td>1.000000</td>\n",
       "      <td>0.724967</td>\n",
       "      <td>0.718002</td>\n",
       "      <td>0.729438</td>\n",
       "      <td>0.283697</td>\n",
       "      <td>0.709906</td>\n",
       "      <td>0.707704</td>\n",
       "    </tr>\n",
       "    <tr>\n",
       "      <th>requests_duration_percentile_95</th>\n",
       "      <td>0.738187</td>\n",
       "      <td>0.733472</td>\n",
       "      <td>NaN</td>\n",
       "      <td>NaN</td>\n",
       "      <td>0.739916</td>\n",
       "      <td>0.147974</td>\n",
       "      <td>NaN</td>\n",
       "      <td>NaN</td>\n",
       "      <td>NaN</td>\n",
       "      <td>NaN</td>\n",
       "      <td>0.901244</td>\n",
       "      <td>0.724967</td>\n",
       "      <td>1.000000</td>\n",
       "      <td>0.998024</td>\n",
       "      <td>0.996090</td>\n",
       "      <td>0.363241</td>\n",
       "      <td>0.993893</td>\n",
       "      <td>0.992468</td>\n",
       "    </tr>\n",
       "    <tr>\n",
       "      <th>requests_duration_percentile_90</th>\n",
       "      <td>0.728460</td>\n",
       "      <td>0.735762</td>\n",
       "      <td>NaN</td>\n",
       "      <td>NaN</td>\n",
       "      <td>0.731091</td>\n",
       "      <td>0.142221</td>\n",
       "      <td>NaN</td>\n",
       "      <td>NaN</td>\n",
       "      <td>NaN</td>\n",
       "      <td>NaN</td>\n",
       "      <td>0.902775</td>\n",
       "      <td>0.718002</td>\n",
       "      <td>0.998024</td>\n",
       "      <td>1.000000</td>\n",
       "      <td>0.997154</td>\n",
       "      <td>0.372101</td>\n",
       "      <td>0.998171</td>\n",
       "      <td>0.997527</td>\n",
       "    </tr>\n",
       "    <tr>\n",
       "      <th>requests_duration_max</th>\n",
       "      <td>0.739109</td>\n",
       "      <td>0.746754</td>\n",
       "      <td>NaN</td>\n",
       "      <td>NaN</td>\n",
       "      <td>0.739827</td>\n",
       "      <td>0.152019</td>\n",
       "      <td>NaN</td>\n",
       "      <td>NaN</td>\n",
       "      <td>NaN</td>\n",
       "      <td>NaN</td>\n",
       "      <td>0.908951</td>\n",
       "      <td>0.729438</td>\n",
       "      <td>0.996090</td>\n",
       "      <td>0.997154</td>\n",
       "      <td>1.000000</td>\n",
       "      <td>0.361425</td>\n",
       "      <td>0.995411</td>\n",
       "      <td>0.994857</td>\n",
       "    </tr>\n",
       "    <tr>\n",
       "      <th>requests_duration_min</th>\n",
       "      <td>0.215224</td>\n",
       "      <td>0.287223</td>\n",
       "      <td>NaN</td>\n",
       "      <td>NaN</td>\n",
       "      <td>0.236290</td>\n",
       "      <td>0.064289</td>\n",
       "      <td>NaN</td>\n",
       "      <td>NaN</td>\n",
       "      <td>NaN</td>\n",
       "      <td>NaN</td>\n",
       "      <td>0.375226</td>\n",
       "      <td>0.283697</td>\n",
       "      <td>0.363241</td>\n",
       "      <td>0.372101</td>\n",
       "      <td>0.361425</td>\n",
       "      <td>1.000000</td>\n",
       "      <td>0.394001</td>\n",
       "      <td>0.375447</td>\n",
       "    </tr>\n",
       "    <tr>\n",
       "      <th>requests_duration_mean</th>\n",
       "      <td>0.717530</td>\n",
       "      <td>0.735368</td>\n",
       "      <td>NaN</td>\n",
       "      <td>NaN</td>\n",
       "      <td>0.720008</td>\n",
       "      <td>0.139801</td>\n",
       "      <td>NaN</td>\n",
       "      <td>NaN</td>\n",
       "      <td>NaN</td>\n",
       "      <td>NaN</td>\n",
       "      <td>0.902988</td>\n",
       "      <td>0.709906</td>\n",
       "      <td>0.993893</td>\n",
       "      <td>0.998171</td>\n",
       "      <td>0.995411</td>\n",
       "      <td>0.394001</td>\n",
       "      <td>1.000000</td>\n",
       "      <td>0.999446</td>\n",
       "    </tr>\n",
       "    <tr>\n",
       "      <th>requests_duration_median</th>\n",
       "      <td>0.715969</td>\n",
       "      <td>0.735926</td>\n",
       "      <td>NaN</td>\n",
       "      <td>NaN</td>\n",
       "      <td>0.718182</td>\n",
       "      <td>0.140775</td>\n",
       "      <td>NaN</td>\n",
       "      <td>NaN</td>\n",
       "      <td>NaN</td>\n",
       "      <td>NaN</td>\n",
       "      <td>0.900128</td>\n",
       "      <td>0.707704</td>\n",
       "      <td>0.992468</td>\n",
       "      <td>0.997527</td>\n",
       "      <td>0.994857</td>\n",
       "      <td>0.375447</td>\n",
       "      <td>0.999446</td>\n",
       "      <td>1.000000</td>\n",
       "    </tr>\n",
       "  </tbody>\n",
       "</table>\n",
       "</div>"
      ],
      "text/plain": [
       "                                 node_cpu_util  node_mem_util  node_cores  \\\n",
       "node_cpu_util                         1.000000       0.769254         NaN   \n",
       "node_mem_util                         0.769254       1.000000         NaN   \n",
       "node_cores                                 NaN            NaN         NaN   \n",
       "node_mem                                   NaN            NaN         NaN   \n",
       "pod_cpu_usage                         0.986160       0.769658         NaN   \n",
       "pod_mem_usage                         0.349985       0.378766         NaN   \n",
       "pod_cpu_limit                              NaN            NaN         NaN   \n",
       "pod_mem_limit                              NaN            NaN         NaN   \n",
       "pod_cpu_request                            NaN            NaN         NaN   \n",
       "pod_mem_request                            NaN            NaN         NaN   \n",
       "vus                                   0.865991       0.773670         NaN   \n",
       "requests                              0.919173       0.681589         NaN   \n",
       "requests_duration_percentile_95       0.738187       0.733472         NaN   \n",
       "requests_duration_percentile_90       0.728460       0.735762         NaN   \n",
       "requests_duration_max                 0.739109       0.746754         NaN   \n",
       "requests_duration_min                 0.215224       0.287223         NaN   \n",
       "requests_duration_mean                0.717530       0.735368         NaN   \n",
       "requests_duration_median              0.715969       0.735926         NaN   \n",
       "\n",
       "                                 node_mem  pod_cpu_usage  pod_mem_usage  \\\n",
       "node_cpu_util                         NaN       0.986160       0.349985   \n",
       "node_mem_util                         NaN       0.769658       0.378766   \n",
       "node_cores                            NaN            NaN            NaN   \n",
       "node_mem                              NaN            NaN            NaN   \n",
       "pod_cpu_usage                         NaN       1.000000       0.379345   \n",
       "pod_mem_usage                         NaN       0.379345       1.000000   \n",
       "pod_cpu_limit                         NaN            NaN            NaN   \n",
       "pod_mem_limit                         NaN            NaN            NaN   \n",
       "pod_cpu_request                       NaN            NaN            NaN   \n",
       "pod_mem_request                       NaN            NaN            NaN   \n",
       "vus                                   NaN       0.868082       0.222435   \n",
       "requests                              NaN       0.923313       0.304533   \n",
       "requests_duration_percentile_95       NaN       0.739916       0.147974   \n",
       "requests_duration_percentile_90       NaN       0.731091       0.142221   \n",
       "requests_duration_max                 NaN       0.739827       0.152019   \n",
       "requests_duration_min                 NaN       0.236290       0.064289   \n",
       "requests_duration_mean                NaN       0.720008       0.139801   \n",
       "requests_duration_median              NaN       0.718182       0.140775   \n",
       "\n",
       "                                 pod_cpu_limit  pod_mem_limit  \\\n",
       "node_cpu_util                              NaN            NaN   \n",
       "node_mem_util                              NaN            NaN   \n",
       "node_cores                                 NaN            NaN   \n",
       "node_mem                                   NaN            NaN   \n",
       "pod_cpu_usage                              NaN            NaN   \n",
       "pod_mem_usage                              NaN            NaN   \n",
       "pod_cpu_limit                              NaN            NaN   \n",
       "pod_mem_limit                              NaN            NaN   \n",
       "pod_cpu_request                            NaN            NaN   \n",
       "pod_mem_request                            NaN            NaN   \n",
       "vus                                        NaN            NaN   \n",
       "requests                                   NaN            NaN   \n",
       "requests_duration_percentile_95            NaN            NaN   \n",
       "requests_duration_percentile_90            NaN            NaN   \n",
       "requests_duration_max                      NaN            NaN   \n",
       "requests_duration_min                      NaN            NaN   \n",
       "requests_duration_mean                     NaN            NaN   \n",
       "requests_duration_median                   NaN            NaN   \n",
       "\n",
       "                                 pod_cpu_request  pod_mem_request       vus  \\\n",
       "node_cpu_util                                NaN              NaN  0.865991   \n",
       "node_mem_util                                NaN              NaN  0.773670   \n",
       "node_cores                                   NaN              NaN       NaN   \n",
       "node_mem                                     NaN              NaN       NaN   \n",
       "pod_cpu_usage                                NaN              NaN  0.868082   \n",
       "pod_mem_usage                                NaN              NaN  0.222435   \n",
       "pod_cpu_limit                                NaN              NaN       NaN   \n",
       "pod_mem_limit                                NaN              NaN       NaN   \n",
       "pod_cpu_request                              NaN              NaN       NaN   \n",
       "pod_mem_request                              NaN              NaN       NaN   \n",
       "vus                                          NaN              NaN  1.000000   \n",
       "requests                                     NaN              NaN  0.913597   \n",
       "requests_duration_percentile_95              NaN              NaN  0.901244   \n",
       "requests_duration_percentile_90              NaN              NaN  0.902775   \n",
       "requests_duration_max                        NaN              NaN  0.908951   \n",
       "requests_duration_min                        NaN              NaN  0.375226   \n",
       "requests_duration_mean                       NaN              NaN  0.902988   \n",
       "requests_duration_median                     NaN              NaN  0.900128   \n",
       "\n",
       "                                 requests  requests_duration_percentile_95  \\\n",
       "node_cpu_util                    0.919173                         0.738187   \n",
       "node_mem_util                    0.681589                         0.733472   \n",
       "node_cores                            NaN                              NaN   \n",
       "node_mem                              NaN                              NaN   \n",
       "pod_cpu_usage                    0.923313                         0.739916   \n",
       "pod_mem_usage                    0.304533                         0.147974   \n",
       "pod_cpu_limit                         NaN                              NaN   \n",
       "pod_mem_limit                         NaN                              NaN   \n",
       "pod_cpu_request                       NaN                              NaN   \n",
       "pod_mem_request                       NaN                              NaN   \n",
       "vus                              0.913597                         0.901244   \n",
       "requests                         1.000000                         0.724967   \n",
       "requests_duration_percentile_95  0.724967                         1.000000   \n",
       "requests_duration_percentile_90  0.718002                         0.998024   \n",
       "requests_duration_max            0.729438                         0.996090   \n",
       "requests_duration_min            0.283697                         0.363241   \n",
       "requests_duration_mean           0.709906                         0.993893   \n",
       "requests_duration_median         0.707704                         0.992468   \n",
       "\n",
       "                                 requests_duration_percentile_90  \\\n",
       "node_cpu_util                                           0.728460   \n",
       "node_mem_util                                           0.735762   \n",
       "node_cores                                                   NaN   \n",
       "node_mem                                                     NaN   \n",
       "pod_cpu_usage                                           0.731091   \n",
       "pod_mem_usage                                           0.142221   \n",
       "pod_cpu_limit                                                NaN   \n",
       "pod_mem_limit                                                NaN   \n",
       "pod_cpu_request                                              NaN   \n",
       "pod_mem_request                                              NaN   \n",
       "vus                                                     0.902775   \n",
       "requests                                                0.718002   \n",
       "requests_duration_percentile_95                         0.998024   \n",
       "requests_duration_percentile_90                         1.000000   \n",
       "requests_duration_max                                   0.997154   \n",
       "requests_duration_min                                   0.372101   \n",
       "requests_duration_mean                                  0.998171   \n",
       "requests_duration_median                                0.997527   \n",
       "\n",
       "                                 requests_duration_max  requests_duration_min  \\\n",
       "node_cpu_util                                 0.739109               0.215224   \n",
       "node_mem_util                                 0.746754               0.287223   \n",
       "node_cores                                         NaN                    NaN   \n",
       "node_mem                                           NaN                    NaN   \n",
       "pod_cpu_usage                                 0.739827               0.236290   \n",
       "pod_mem_usage                                 0.152019               0.064289   \n",
       "pod_cpu_limit                                      NaN                    NaN   \n",
       "pod_mem_limit                                      NaN                    NaN   \n",
       "pod_cpu_request                                    NaN                    NaN   \n",
       "pod_mem_request                                    NaN                    NaN   \n",
       "vus                                           0.908951               0.375226   \n",
       "requests                                      0.729438               0.283697   \n",
       "requests_duration_percentile_95               0.996090               0.363241   \n",
       "requests_duration_percentile_90               0.997154               0.372101   \n",
       "requests_duration_max                         1.000000               0.361425   \n",
       "requests_duration_min                         0.361425               1.000000   \n",
       "requests_duration_mean                        0.995411               0.394001   \n",
       "requests_duration_median                      0.994857               0.375447   \n",
       "\n",
       "                                 requests_duration_mean  \\\n",
       "node_cpu_util                                  0.717530   \n",
       "node_mem_util                                  0.735368   \n",
       "node_cores                                          NaN   \n",
       "node_mem                                            NaN   \n",
       "pod_cpu_usage                                  0.720008   \n",
       "pod_mem_usage                                  0.139801   \n",
       "pod_cpu_limit                                       NaN   \n",
       "pod_mem_limit                                       NaN   \n",
       "pod_cpu_request                                     NaN   \n",
       "pod_mem_request                                     NaN   \n",
       "vus                                            0.902988   \n",
       "requests                                       0.709906   \n",
       "requests_duration_percentile_95                0.993893   \n",
       "requests_duration_percentile_90                0.998171   \n",
       "requests_duration_max                          0.995411   \n",
       "requests_duration_min                          0.394001   \n",
       "requests_duration_mean                         1.000000   \n",
       "requests_duration_median                       0.999446   \n",
       "\n",
       "                                 requests_duration_median  \n",
       "node_cpu_util                                    0.715969  \n",
       "node_mem_util                                    0.735926  \n",
       "node_cores                                            NaN  \n",
       "node_mem                                              NaN  \n",
       "pod_cpu_usage                                    0.718182  \n",
       "pod_mem_usage                                    0.140775  \n",
       "pod_cpu_limit                                         NaN  \n",
       "pod_mem_limit                                         NaN  \n",
       "pod_cpu_request                                       NaN  \n",
       "pod_mem_request                                       NaN  \n",
       "vus                                              0.900128  \n",
       "requests                                         0.707704  \n",
       "requests_duration_percentile_95                  0.992468  \n",
       "requests_duration_percentile_90                  0.997527  \n",
       "requests_duration_max                            0.994857  \n",
       "requests_duration_min                            0.375447  \n",
       "requests_duration_mean                           0.999446  \n",
       "requests_duration_median                         1.000000  "
      ]
     },
     "execution_count": 17,
     "metadata": {},
     "output_type": "execute_result"
    }
   ],
   "source": [
    "df_pods_node[0].fillna(0)\n",
    "df_pods_node[0].corr()"
   ]
  },
  {
   "cell_type": "code",
   "execution_count": 18,
   "metadata": {},
   "outputs": [],
   "source": [
    "dftemp_cpu = df_pods_node[0][['requests','node_cores','node_mem', 'node_cpu_util', 'pod_cpu_usage','pod_cpu_limit','pod_cpu_request','pod_mem_limit','pod_mem_request',  'requests_duration_mean', 'requests_duration_percentile_95']]\n",
    "dftemp_mem = df_pods_node[0][['requests', 'node_cores','node_mem', 'node_mem_util','pod_cpu_limit','pod_cpu_request','pod_mem_usage','pod_mem_limit','pod_mem_request', 'requests_duration_mean', 'requests_duration_percentile_95']]\n"
   ]
  },
  {
   "cell_type": "code",
   "execution_count": 19,
   "metadata": {},
   "outputs": [
    {
     "data": {
      "text/plain": [
       "[<matplotlib.lines.Line2D at 0x1d525402a20>]"
      ]
     },
     "execution_count": 19,
     "metadata": {},
     "output_type": "execute_result"
    },
    {
     "data": {
      "image/png": "[encoded data removed]",
      "text/plain": [
       "<matplotlib.figure.Figure at 0x1d5253a5a58>"
      ]
     },
     "metadata": {},
     "output_type": "display_data"
    }
   ],
   "source": [
    "plt.plot( dftemp_cpu['node_cpu_util'], color='blue', linewidth=2)\n",
    "plt.plot( dftemp_cpu['pod_cpu_usage'], color='red', linewidth=2)"
   ]
  },
  {
   "cell_type": "code",
   "execution_count": 18,
   "metadata": {},
   "outputs": [
    {
     "data": {
      "text/plain": [
       "[<matplotlib.lines.Line2D at 0x25925865f98>]"
      ]
     },
     "execution_count": 18,
     "metadata": {},
     "output_type": "execute_result"
    },
    {
     "data": {
      "image/png": "[encoded data removed]",
      "text/plain": [
       "<matplotlib.figure.Figure at 0x259255fb1d0>"
      ]
     },
     "metadata": {},
     "output_type": "display_data"
    }
   ],
   "source": [
    "plt.plot( dftemp_cpu['requests'], color='green', linewidth=2)"
   ]
  },
  {
   "cell_type": "code",
   "execution_count": 19,
   "metadata": {},
   "outputs": [
    {
     "data": {
      "text/plain": [
       "[<matplotlib.lines.Line2D at 0x25925be6240>]"
      ]
     },
     "execution_count": 19,
     "metadata": {},
     "output_type": "execute_result"
    },
    {
     "data": {
      "image/png": "[encoded data removed]",
      "text/plain": [
       "<matplotlib.figure.Figure at 0x25925877be0>"
      ]
     },
     "metadata": {},
     "output_type": "display_data"
    }
   ],
   "source": [
    "plt.plot(dftemp_cpu['requests_duration_percentile_95'], color='blue', linewidth=2)"
   ]
  },
  {
   "cell_type": "code",
   "execution_count": 20,
   "metadata": {},
   "outputs": [],
   "source": [
    "import seaborn as sb"
   ]
  },
  {
   "cell_type": "markdown",
   "metadata": {},
   "source": [
    "# Linear Regression"
   ]
  },
  {
   "cell_type": "code",
   "execution_count": 21,
   "metadata": {},
   "outputs": [],
   "source": [
    "from sklearn import datasets, linear_model\n",
    "from sklearn.metrics import mean_squared_error, r2_score\n",
    "from sklearn.model_selection import train_test_split\n",
    "from sklearn.preprocessing import scale"
   ]
  },
  {
   "cell_type": "code",
   "execution_count": 22,
   "metadata": {},
   "outputs": [],
   "source": [
    "# Use only one feature\n",
    "df_X = dftemp_cpu[['requests']].values\n",
    "df_Y = dftemp_cpu[['node_cpu_util']].values"
   ]
  },
  {
   "cell_type": "code",
   "execution_count": 23,
   "metadata": {},
   "outputs": [],
   "source": [
    "from numpy import *\n",
    "from scipy.interpolate import *"
   ]
  },
  {
   "cell_type": "code",
   "execution_count": 24,
   "metadata": {},
   "outputs": [],
   "source": [
    "df_X = df_X.flatten()"
   ]
  },
  {
   "cell_type": "code",
   "execution_count": 25,
   "metadata": {},
   "outputs": [],
   "source": [
    "df_Y = df_Y.flatten()"
   ]
  },
  {
   "cell_type": "code",
   "execution_count": 26,
   "metadata": {},
   "outputs": [],
   "source": [
    "p1=polyfit(df_X, df_Y, 1)"
   ]
  },
  {
   "cell_type": "code",
   "execution_count": 27,
   "metadata": {},
   "outputs": [],
   "source": [
    "p2=polyfit(df_X, df_Y, 2)\n",
    "p3=polyfit(df_X, df_Y, 3)\n"
   ]
  },
  {
   "cell_type": "code",
   "execution_count": 28,
   "metadata": {},
   "outputs": [
    {
     "data": {
      "text/plain": [
       "[<matplotlib.lines.Line2D at 0x25927a7cb70>]"
      ]
     },
     "execution_count": 28,
     "metadata": {},
     "output_type": "execute_result"
    },
    {
     "data": {
      "image/png": "[encoded data removed]",
      "text/plain": [
       "<matplotlib.figure.Figure at 0x25927a7cb38>"
      ]
     },
     "metadata": {},
     "output_type": "display_data"
    }
   ],
   "source": [
    "plt.plot(df_X, df_Y,'o')\n",
    "#plt.plot(df_X, polyval(p1,df_X), 'b-')\n",
    "#plt.plot(df_X, polyval(p2,df_X), 'g-')\n",
    "plt.plot(df_X, polyval(p3,df_X), 'y-')"
   ]
  },
  {
   "cell_type": "code",
   "execution_count": 29,
   "metadata": {},
   "outputs": [
    {
     "data": {
      "text/plain": [
       "array([ -4.20265589e-12,   2.84198067e-08,   5.65266676e-05,\n",
       "         5.39044328e-02])"
      ]
     },
     "execution_count": 29,
     "metadata": {},
     "output_type": "execute_result"
    }
   ],
   "source": [
    "p3"
   ]
  },
  {
   "cell_type": "code",
   "execution_count": 30,
   "metadata": {},
   "outputs": [],
   "source": [
    "# Use only one feature\n",
    "df_X = dftemp_cpu[['requests', 'node_cores']].values\n",
    "df_Y = dftemp_cpu[['node_cpu_util']].values"
   ]
  },
  {
   "cell_type": "code",
   "execution_count": 31,
   "metadata": {},
   "outputs": [],
   "source": [
    "X_train, X_test, y_train, y_test = train_test_split(df_X, df_Y, test_size=0.33, random_state=42)\n"
   ]
  },
  {
   "cell_type": "code",
   "execution_count": 32,
   "metadata": {
    "scrolled": true
   },
   "outputs": [
    {
     "name": "stdout",
     "output_type": "stream",
     "text": [
      "Coefficients: \n",
      " [[ 0.00011077  0.        ]]\n",
      "intercept: \n",
      " [ 0.02936706]\n",
      "Mean squared error: 0.00\n",
      "Variance score: 0.85\n"
     ]
    }
   ],
   "source": [
    "from sklearn.linear_model import Ridge\n",
    "from sklearn.preprocessing import PolynomialFeatures\n",
    "from sklearn.pipeline import make_pipeline\n",
    "from sklearn.pipeline import Pipeline\n",
    "# Create linear regression object\n",
    "model = linear_model.LinearRegression()\n",
    "#model = Pipeline([('poly', PolynomialFeatures(degree=2)),\n",
    "#                  ('linear', LinearRegression(fit_intercept=False))])\n",
    "#regr = linear_model.Ridge (alpha = .01)\n",
    "#regr = linear_model.Lasso(alpha = 0.1)\n",
    "#regr = linear_model.LassoLars(alpha=.1)\n",
    "#regr = make_pipeline(PolynomialFeatures(2), Ridge())\n",
    "\n",
    "# Train the model using the training sets\n",
    "model.fit(X_train, y_train)\n",
    "\n",
    "# Make predictions using the testing set\n",
    "y_pred = model.predict(X_test)\n",
    "\n",
    "# The coefficients\n",
    "print('Coefficients: \\n', model.coef_)\n",
    "print('intercept: \\n', model.intercept_)\n",
    "# The mean squared error\n",
    "print(\"Mean squared error: %.2f\"\n",
    "      % mean_squared_error(y_test, y_pred))\n",
    "# Explained variance score: 1 is perfect prediction\n",
    "print('Variance score: %.2f' % r2_score(y_test, y_pred))\n",
    "\n",
    "#print ('Train score %.2f', regr.score(X_train, y_train) )\n",
    "#print ('Test score %.2f', regr.score(X_test, y_test) )\n",
    "#print ('Pred score %.2f', regr.score(X_test, y_pred) )"
   ]
  },
  {
   "cell_type": "code",
   "execution_count": 33,
   "metadata": {},
   "outputs": [
    {
     "data": {
      "image/png": "[encoded data removed]",
      "text/plain": [
       "<matplotlib.figure.Figure at 0x25927a93b70>"
      ]
     },
     "metadata": {},
     "output_type": "display_data"
    }
   ],
   "source": [
    "# Plot outputs\n",
    "plt.scatter(X_test[:,0], y_test,  color='black')\n",
    "#plt.plot(X_test[:,0], y_pred, color='blue')\n",
    "plt.plot(X_test[:,0],y_pred,'-r')\n",
    "\n",
    "plt.show()"
   ]
  },
  {
   "cell_type": "code",
   "execution_count": 35,
   "metadata": {},
   "outputs": [
    {
     "data": {
      "text/plain": [
       "array([[ 0.52784285]])"
      ]
     },
     "execution_count": 35,
     "metadata": {},
     "output_type": "execute_result"
    }
   ],
   "source": [
    "model.predict([[4500, 1]])"
   ]
  },
  {
   "cell_type": "code",
   "execution_count": 334,
   "metadata": {},
   "outputs": [],
   "source": [
    "#pd.DataFrame(list(zip(y_pred,y_test)), columns = ['predict', 'test'])"
   ]
  },
  {
   "cell_type": "markdown",
   "metadata": {},
   "source": [
    "# dataset_pod_hello_world"
   ]
  },
  {
   "cell_type": "code",
   "execution_count": 335,
   "metadata": {},
   "outputs": [
    {
     "ename": "NameError",
     "evalue": "name 'dataset_pod_hello_world' is not defined",
     "output_type": "error",
     "traceback": [
      "\u001b[1;31m---------------------------------------------------------------------------\u001b[0m",
      "\u001b[1;31mNameError\u001b[0m                                 Traceback (most recent call last)",
      "\u001b[1;32m<ipython-input-335-81c814281d9a>\u001b[0m in \u001b[0;36m<module>\u001b[1;34m()\u001b[0m\n\u001b[1;32m----> 1\u001b[1;33m \u001b[0mdataset_pod_hello_world\u001b[0m\u001b[1;33m.\u001b[0m\u001b[0mindex\u001b[0m \u001b[1;33m=\u001b[0m \u001b[0mpd\u001b[0m\u001b[1;33m.\u001b[0m\u001b[0mto_datetime\u001b[0m\u001b[1;33m(\u001b[0m\u001b[0mdataset_pod_hello_world\u001b[0m\u001b[1;33m.\u001b[0m\u001b[0mindex\u001b[0m\u001b[1;33m)\u001b[0m\u001b[1;33m\u001b[0m\u001b[0m\n\u001b[0m\u001b[0;32m      2\u001b[0m \u001b[0mmerged\u001b[0m\u001b[1;33m.\u001b[0m\u001b[0mindex\u001b[0m \u001b[1;33m=\u001b[0m \u001b[0mpd\u001b[0m\u001b[1;33m.\u001b[0m\u001b[0mto_datetime\u001b[0m\u001b[1;33m(\u001b[0m\u001b[0mmerged\u001b[0m\u001b[1;33m.\u001b[0m\u001b[0mindex\u001b[0m\u001b[1;33m)\u001b[0m\u001b[1;33m\u001b[0m\u001b[0m\n",
      "\u001b[1;31mNameError\u001b[0m: name 'dataset_pod_hello_world' is not defined"
     ]
    }
   ],
   "source": [
    "dataset_pod_hello_world.index = pd.to_datetime(dataset_pod_hello_world.index)\n",
    "merged.index = pd.to_datetime(merged.index)"
   ]
  },
  {
   "cell_type": "code",
   "execution_count": 336,
   "metadata": {},
   "outputs": [
    {
     "ename": "NameError",
     "evalue": "name 'dataset_pod_hello_world' is not defined",
     "output_type": "error",
     "traceback": [
      "\u001b[1;31m---------------------------------------------------------------------------\u001b[0m",
      "\u001b[1;31mNameError\u001b[0m                                 Traceback (most recent call last)",
      "\u001b[1;32m<ipython-input-336-d7f35406416f>\u001b[0m in \u001b[0;36m<module>\u001b[1;34m()\u001b[0m\n\u001b[1;32m----> 1\u001b[1;33m \u001b[0mnewmergedhello\u001b[0m \u001b[1;33m=\u001b[0m \u001b[0mdataset_pod_hello_world\u001b[0m\u001b[1;33m.\u001b[0m\u001b[0mreindex\u001b[0m\u001b[1;33m(\u001b[0m\u001b[0mmerged\u001b[0m\u001b[1;33m.\u001b[0m\u001b[0mindex\u001b[0m\u001b[1;33m,\u001b[0m \u001b[0mmethod\u001b[0m\u001b[1;33m=\u001b[0m\u001b[1;34m'nearest'\u001b[0m\u001b[1;33m)\u001b[0m\u001b[1;33m\u001b[0m\u001b[0m\n\u001b[0m\u001b[0;32m      2\u001b[0m \u001b[0mfinalDFhello\u001b[0m \u001b[1;33m=\u001b[0m \u001b[0mpd\u001b[0m\u001b[1;33m.\u001b[0m\u001b[0mmerge\u001b[0m\u001b[1;33m(\u001b[0m\u001b[0mnewmergedhello\u001b[0m\u001b[1;33m,\u001b[0m \u001b[0mmerged\u001b[0m\u001b[1;33m,\u001b[0m \u001b[0mleft_index\u001b[0m\u001b[1;33m=\u001b[0m\u001b[1;32mTrue\u001b[0m\u001b[1;33m,\u001b[0m \u001b[0mright_index\u001b[0m\u001b[1;33m=\u001b[0m\u001b[1;32mTrue\u001b[0m\u001b[1;33m)\u001b[0m\u001b[1;33m\u001b[0m\u001b[0m\n\u001b[0;32m      3\u001b[0m \u001b[0mfinalDFhello\u001b[0m\u001b[1;33m.\u001b[0m\u001b[0mto_csv\u001b[0m\u001b[1;33m(\u001b[0m\u001b[1;34m'final_hello.csv'\u001b[0m\u001b[1;33m)\u001b[0m\u001b[1;33m\u001b[0m\u001b[0m\n",
      "\u001b[1;31mNameError\u001b[0m: name 'dataset_pod_hello_world' is not defined"
     ]
    }
   ],
   "source": [
    "newmergedhello = dataset_pod_hello_world.reindex(merged.index, method='nearest')\n",
    "finalDFhello = pd.merge(newmergedhello, merged, left_index=True, right_index=True)\n",
    "finalDFhello.to_csv('final_hello.csv')\n"
   ]
  },
  {
   "cell_type": "code",
   "execution_count": 2401,
   "metadata": {},
   "outputs": [],
   "source": [
    "dfhello = read_csv('final_hello.csv',index_col=0)\n",
    "dfhello = dfhello.fillna(0)\n",
    "dfhello = dfhello.sort_values(by=['aggregate.rps.mean'])\n",
    "dfhello  = dfhello.reset_index()"
   ]
  },
  {
   "cell_type": "code",
   "execution_count": 2402,
   "metadata": {},
   "outputs": [
    {
     "data": {
      "text/plain": [
       "[<matplotlib.lines.Line2D at 0x1f080c01dd8>]"
      ]
     },
     "execution_count": 2402,
     "metadata": {},
     "output_type": "execute_result"
    },
    {
     "data": {
      "image/png": "[encoded data removed]",
      "text/plain": [
       "<matplotlib.figure.Figure at 0x1f080c170b8>"
      ]
     },
     "metadata": {},
     "output_type": "display_data"
    }
   ],
   "source": [
    "dfhello = dfhello[['aggregate.rps.mean', 'cpu', 'aggregate.scenarioDuration.median']]\n",
    "plt.plot(dfhello['aggregate.rps.mean'], dfhello['cpu'], color='blue', linewidth=3)"
   ]
  },
  {
   "cell_type": "code",
   "execution_count": 2409,
   "metadata": {},
   "outputs": [],
   "source": [
    "def linear(dft):\n",
    "    # Use only one feature\n",
    "    df_X = dft[['aggregate.rps.mean']].values\n",
    "    df_Y = dft[['cpu']].values\n",
    "    X_train, X_test, y_train, y_test = train_test_split(df_X, df_Y, test_size=0.33, random_state=42)\n",
    "    # Create linear regression object\n",
    "    regr = linear_model.LinearRegression(normalize=True)\n",
    "    #regr = linear_model.Ridge (alpha = .5)\n",
    "    #regr = linear_model.Lasso(alpha = 0.1)\n",
    "    #regr = linear_model.LassoLars(alpha=.1)\n",
    "    #regr = make_pipeline(PolynomialFeatures(3), Ridge())\n",
    "\n",
    "    # Train the model using the training sets\n",
    "    regr.fit(X_train, y_train)\n",
    "\n",
    "    # Make predictions using the testing set\n",
    "    y_pred = regr.predict(X_test)\n",
    "\n",
    "    # The coefficients\n",
    "    print('Coefficients: \\n', regr.coef_)\n",
    "    print('intercept: \\n', regr.intercept_)\n",
    "    # The mean squared error\n",
    "    print(\"Mean squared error: %.2f\"\n",
    "          % mean_squared_error(y_test, y_pred))\n",
    "    # Explained variance score: 1 is perfect prediction\n",
    "    print('Variance score: %.2f' % r2_score(y_test, y_pred))\n",
    "    print ('Train score %.2f', regr.score(X_train, y_train) )\n",
    "    print ('Test score %.2f', regr.score(X_test, y_test) )\n",
    "    print ('Pred score %.2f', regr.score(X_test, y_pred) )\n",
    "    # Plot outputs\n",
    "    plt.scatter(X_test, y_test,  color='black')\n",
    "    plt.plot(X_test, y_pred, color='blue')\n",
    "    plt.show()\n"
   ]
  },
  {
   "cell_type": "code",
   "execution_count": 2410,
   "metadata": {},
   "outputs": [
    {
     "name": "stdout",
     "output_type": "stream",
     "text": [
      "Coefficients: \n",
      " [[ 0.00028514]]\n",
      "intercept: \n",
      " [ 0.01866948]\n",
      "Mean squared error: 0.00\n",
      "Variance score: 0.91\n",
      "Train score %.2f 0.911538078085\n",
      "Test score %.2f 0.908181249555\n",
      "Pred score %.2f 1.0\n"
     ]
    },
    {
     "data": {
      "image/png": "[encoded data removed]",
      "text/plain": [
       "<matplotlib.figure.Figure at 0x1f08090b240>"
      ]
     },
     "metadata": {},
     "output_type": "display_data"
    }
   ],
   "source": [
    "linear(dfhello)"
   ]
  },
  {
   "cell_type": "code",
   "execution_count": 2386,
   "metadata": {},
   "outputs": [
    {
     "data": {
      "text/plain": [
       "[<matplotlib.lines.Line2D at 0x1f0833683c8>]"
      ]
     },
     "execution_count": 2386,
     "metadata": {},
     "output_type": "execute_result"
    },
    {
     "data": {
      "image/png": "[encoded data removed]",
      "text/plain": [
       "<matplotlib.figure.Figure at 0x1f0823ffbe0>"
      ]
     },
     "metadata": {},
     "output_type": "display_data"
    }
   ],
   "source": [
    "dataset_pod_pdescp.index = pd.to_datetime(dataset_pod_pdescp.index)\n",
    "merged.index = pd.to_datetime(merged.index)\n",
    "newmergedpdescp = dataset_pod_pdescp.reindex(merged.index, method='nearest')\n",
    "finalDFpdescp = pd.merge(newmergedpdescp, merged, left_index=True, right_index=True)\n",
    "finalDFpdescp.to_csv('final_pdescp.csv')\n",
    "dfpdescp = read_csv('final_pdescp.csv',index_col=0)\n",
    "dfpdescp = dfpdescp.fillna(0)\n",
    "dfpdescp = dfpdescp.sort_values(by=['aggregate.rps.mean'])\n",
    "dfpdescp  = dfpdescp.reset_index()\n",
    "dfpdescp = dfpdescp[['aggregate.rps.mean', 'cpu']]\n",
    "plt.plot(dfpdescp['aggregate.rps.mean'], dfpdescp['cpu'], color='blue', linewidth=3)"
   ]
  },
  {
   "cell_type": "code",
   "execution_count": 2387,
   "metadata": {},
   "outputs": [
    {
     "name": "stdout",
     "output_type": "stream",
     "text": [
      "Coefficients: \n",
      " [[ 0.00029658]]\n",
      "intercept: \n",
      " [ 0.01676364]\n",
      "Mean squared error: 0.00\n",
      "Variance score: 0.93\n",
      "Train score %.2f 0.933064000419\n",
      "Test score %.2f 0.926191822942\n",
      "Pred score %.2f 1.0\n"
     ]
    },
    {
     "data": {
      "image/png": "[encoded data removed]",
      "text/plain": [
       "<matplotlib.figure.Figure at 0x1f081d77a20>"
      ]
     },
     "metadata": {},
     "output_type": "display_data"
    }
   ],
   "source": [
    "linear(dfpdescp)\n"
   ]
  },
  {
   "cell_type": "code",
   "execution_count": 2388,
   "metadata": {},
   "outputs": [
    {
     "data": {
      "text/plain": [
       "[<matplotlib.lines.Line2D at 0x1f083446f98>]"
      ]
     },
     "execution_count": 2388,
     "metadata": {},
     "output_type": "execute_result"
    },
    {
     "data": {
      "image/png": "[encoded data removed]",
      "text/plain": [
       "<matplotlib.figure.Figure at 0x1f07b58ee48>"
      ]
     },
     "metadata": {},
     "output_type": "display_data"
    }
   ],
   "source": [
    "dataset_pod_server.index = pd.to_datetime(dataset_pod_server.index)\n",
    "merged.index = pd.to_datetime(merged.index)\n",
    "newmergedserver = dataset_pod_server.reindex(merged.index, method='nearest')\n",
    "finalDFserver = pd.merge(newmergedserver, merged, left_index=True, right_index=True)\n",
    "finalDFserver.to_csv('final_server.csv')\n",
    "dfpserver = read_csv('final_server.csv',index_col=0)\n",
    "dfpserver = dfpserver.fillna(0)\n",
    "dfpserver = dfpserver.sort_values(by=['aggregate.rps.mean'])\n",
    "dfpserver  = dfpserver.reset_index()\n",
    "dfpserver = dfpserver[['aggregate.rps.mean', 'cpu']]\n",
    "plt.plot(dfpserver['aggregate.rps.mean'], dfpserver['cpu'], color='blue', linewidth=3)"
   ]
  },
  {
   "cell_type": "code",
   "execution_count": 2389,
   "metadata": {},
   "outputs": [
    {
     "name": "stdout",
     "output_type": "stream",
     "text": [
      "Coefficients: \n",
      " [[ 0.00089099]]\n",
      "intercept: \n",
      " [ 0.08862049]\n",
      "Mean squared error: 0.00\n",
      "Variance score: 0.90\n",
      "Train score %.2f 0.85043997473\n",
      "Test score %.2f 0.897025088355\n",
      "Pred score %.2f 1.0\n"
     ]
    },
    {
     "data": {
      "image/png": "[encoded data removed]",
      "text/plain": [
       "<matplotlib.figure.Figure at 0x1f0826fa860>"
      ]
     },
     "metadata": {},
     "output_type": "display_data"
    }
   ],
   "source": [
    "linear(dfpserver)"
   ]
  },
  {
   "cell_type": "code",
   "execution_count": null,
   "metadata": {},
   "outputs": [],
   "source": []
  },
  {
   "cell_type": "code",
   "execution_count": null,
   "metadata": {},
   "outputs": [],
   "source": []
  }
 ],
 "metadata": {
  "kernelspec": {
   "display_name": "Python 3",
   "language": "python",
   "name": "python3"
  },
  "language_info": {
   "codemirror_mode": {
    "name": "ipython",
    "version": 3
   },
   "file_extension": ".py",
   "mimetype": "text/x-python",
   "name": "python",
   "nbconvert_exporter": "python",
   "pygments_lexer": "ipython3",
   "version": "3.5.4"
  }
 },
 "nbformat": 4,
 "nbformat_minor": 2
}
